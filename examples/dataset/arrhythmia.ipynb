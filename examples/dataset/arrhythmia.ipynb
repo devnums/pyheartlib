{
  "cells": [
    {
      "cell_type": "markdown",
      "metadata": {
        "id": "hXd7JpvPDWd8"
      },
      "source": [
        "# Arrhythmia"
      ]
    },
    {
      "cell_type": "markdown",
      "metadata": {
        "id": "iNrh-Pgtl1XS"
      },
      "source": [
        "This example demostrates how to create a dataset for arrhythmia classification. It is available on [GitHub](https://github.com/devnums/pyheartlib/blob/main/examples/).\n",
        "\n",
        "<a target=\"_blank\" href=\"https://colab.research.google.com/github/devnums/pyheartlib/blob/main/examples/dataset/arrhythmia.ipynb\"><img src=\"https://colab.research.google.com/assets/colab-badge.svg\" alt=\"Open In Colab\"/></a> "
      ]
    },
    {
      "cell_type": "markdown",
      "metadata": {
        "id": "cNNn6VeBuvSr"
      },
      "source": [
        "### Install pyheartlib"
      ]
    },
    {
      "cell_type": "code",
      "execution_count": null,
      "metadata": {
        "colab": {
          "base_uri": "https://localhost:8080/"
        },
        "id": "QKGXbG9vu2dD",
        "outputId": "c562f3ec-7429-4495-8cfe-f209fdfa8266"
      },
      "outputs": [
        {
          "name": "stdout",
          "output_type": "stream",
          "text": [
            "pyheartlib is already installed\n"
          ]
        }
      ],
      "source": [
        "try:\n",
        "    import pyheartlib\n",
        "    print('pyheartlib is already installed')\n",
        "except ModuleNotFoundError:\n",
        "    print('Installing pyheartlib...')\n",
        "    %pip install pyheartlib"
      ]
    },
    {
      "cell_type": "markdown",
      "metadata": {
        "id": "8hpCPM97u_VG"
      },
      "source": [
        "### Download raw data"
      ]
    },
    {
      "cell_type": "code",
      "execution_count": null,
      "metadata": {
        "id": "plkXMr9mvJ4_"
      },
      "outputs": [],
      "source": [
        "# download the raw data and store them in the data directory\n",
        "from pathlib import Path\n",
        "if not Path('data').is_dir():\n",
        "  print('downloading raw data...')\n",
        "  import io, zipfile\n",
        "  from urllib.request import urlopen\n",
        "  url='https://www.physionet.org/static/published-projects/mitdb/mit-bih-arrhythmia-database-1.0.0.zip'\n",
        "  with urlopen(url) as rs:\n",
        "      zipf = zipfile.ZipFile(io.BytesIO(rs.read()))\n",
        "      zipf.extractall('data/')\n",
        "\n",
        "  # create the config file, for this example just download it from the original repository\n",
        "  with urlopen(\"https://raw.githubusercontent.com/devnums/pyheartlib/main/src/pyheartlib/config.yaml\") as file:\n",
        "      content = file.read().decode()\n",
        "  with open(\"data/config.yaml\", 'w') as file:\n",
        "      file.write(content)"
      ]
    },
    {
      "cell_type": "markdown",
      "metadata": {
        "id": "ThOyX1kJvadZ"
      },
      "source": [
        "### Create dataset"
      ]
    },
    {
      "cell_type": "code",
      "execution_count": null,
      "metadata": {
        "colab": {
          "base_uri": "https://localhost:8080/"
        },
        "id": "hn_ML1DHl1XT",
        "outputId": "4b3c2395-03be-42af-df9b-e0fc146f7a63"
      },
      "outputs": [
        {
          "name": "stdout",
          "output_type": "stream",
          "text": [
            "File saved at: data/train.arr\n",
            "File loaded from: data/train.arr\n",
            "           0     1     2     3\n",
            "Label  (AFIB  (AFL    (N    (T\n",
            "Count  10330  1656  3594  1584\n"
          ]
        }
      ],
      "source": [
        "import numpy as np\n",
        "import pandas as pd\n",
        "from pyheartlib.io import load_data\n",
        "from pyheartlib.data_arrhythmia import ArrhythmiaData, ECGSequence\n",
        "\n",
        "train_set = [201, 203]\n",
        "\n",
        "arrhythmia_data = ArrhythmiaData(\n",
        "    base_path=\"data\", remove_bl=False, lowpass=False, progress_bar=False\n",
        ")\n",
        "annotated_records, samples_info = arrhythmia_data.save_samples(\n",
        "    rec_list=train_set, file_name=\"train.arr\", win_size=3600, stride=64\n",
        ")\n",
        "annotated_records, samples_info = load_data(\"data/train.arr\")\n",
        "\n",
        "labels = []\n",
        "for sample in samples_info:\n",
        "    labels.append(sample[3])\n",
        "df = pd.DataFrame(np.unique(labels, return_counts=True), index=[\"Label\", \"Count\"])\n",
        "print(df)\n",
        "class_labels = list(np.unique(labels))\n"
      ]
    },
    {
      "cell_type": "code",
      "execution_count": null,
      "metadata": {
        "colab": {
          "base_uri": "https://localhost:8080/"
        },
        "id": "1oytifKLl1XW",
        "outputId": "fca860bc-fa1d-4f66-b69c-900ae973b4f4"
      },
      "outputs": [
        {
          "name": "stdout",
          "output_type": "stream",
          "text": [
            "batch_label shape: (3,)\n",
            "batch_seq shape: (3, 3600)  , batch_rri shape: (3, 150)  , batch_rri_feat shape: (3, 9)\n"
          ]
        }
      ],
      "source": [
        "# if raw=True\n",
        "trainseq = ECGSequence(\n",
        "    annotated_records, samples_info, class_labels=None, batch_size=3, raw=True\n",
        ")\n",
        "bt = 0  # batch number\n",
        "batch_label = trainseq[bt][1]  # excerpt label\n",
        "batch_seq = trainseq[bt][0][0]  # excerpt values\n",
        "batch_rri = trainseq[bt][0][1]  # rr intervals\n",
        "batch_rri_feat = trainseq[bt][0][2]  # calculated rri features\n",
        "print(\"batch_label shape:\", batch_label.shape)\n",
        "print(\n",
        "    \"batch_seq shape:\",\n",
        "    batch_seq.shape,\n",
        "    \" , batch_rri shape:\",\n",
        "    batch_rri.shape,\n",
        "    \" , batch_rri_feat shape:\",\n",
        "    batch_rri_feat.shape,\n",
        ")"
      ]
    },
    {
      "cell_type": "code",
      "execution_count": null,
      "metadata": {
        "colab": {
          "base_uri": "https://localhost:8080/"
        },
        "id": "tgBeQEBQl1XX",
        "outputId": "9cbb2a9b-06a5-471f-8522-655d08e0f067"
      },
      "outputs": [
        {
          "name": "stdout",
          "output_type": "stream",
          "text": [
            "batch_label shape: (3,)\n",
            "batch_seq shape: (3, 100, 14)  , batch_rri shape: (3, 150)  , batch_rri_feat shape: (3, 9)\n"
          ]
        }
      ],
      "source": [
        "# if raw=False\n",
        "trainseq = ECGSequence(\n",
        "    annotated_records, samples_info, class_labels=None, batch_size=3, raw=False\n",
        ")\n",
        "bt = 0  # batch number\n",
        "batch_label = trainseq[bt][1]  # excerpt label\n",
        "batch_seq = trainseq[bt][0][0]  # excerpt values\n",
        "batch_rri = trainseq[bt][0][1]  # rr intervals\n",
        "batch_rri_feat = trainseq[bt][0][2]  # calculated rri features\n",
        "print(\"batch_label shape:\", batch_label.shape)\n",
        "print(\n",
        "    \"batch_seq shape:\",\n",
        "    batch_seq.shape,\n",
        "    \" , batch_rri shape:\",\n",
        "    batch_rri.shape,\n",
        "    \" , batch_rri_feat shape:\",\n",
        "    batch_rri_feat.shape,\n",
        ")"
      ]
    }
  ],
  "metadata": {
    "colab": {
      "provenance": []
    },
    "kernelspec": {
      "display_name": ".venv",
      "language": "python",
      "name": "python3"
    },
    "language_info": {
      "codemirror_mode": {
        "name": "ipython",
        "version": 3
      },
      "file_extension": ".py",
      "mimetype": "text/x-python",
      "name": "python",
      "nbconvert_exporter": "python",
      "pygments_lexer": "ipython3",
      "version": "3.10.0"
    },
    "vscode": {
      "interpreter": {
        "hash": "2b3da7df89b26757d5cc0b3b4f4abb3b520ebd829fe30c0197712adb7acae5b8"
      }
    }
  },
  "nbformat": 4,
  "nbformat_minor": 0
}
