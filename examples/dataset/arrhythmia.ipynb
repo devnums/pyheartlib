{
  "cells": [
    {
      "attachments": {},
      "cell_type": "markdown",
      "metadata": {
        "id": "hXd7JpvPDWd8"
      },
      "source": [
        "# Arrhythmia"
      ]
    },
    {
      "attachments": {},
      "cell_type": "markdown",
      "metadata": {
        "id": "iNrh-Pgtl1XS"
      },
      "source": [
        "This example demonstrates how to use the `RhythmData` class provided in the `pyheartlib` to create a dataset for arrhythmia classification. The dataset will contain signals and annotations, as well as metadata about the excerpts. The metadata for each excerpt includes the record ID, the onset and offset of the excerpt on the raw signal, and the annotation. Finally, the `ECGSequence` class will be used to generate batches of sample data from the information available in the dataset.\n",
        "\n",
        "This example is available on [GitHub](https://github.com/devnums/pyheartlib/blob/main/examples/).\n",
        "\n",
        "<a target=\"_blank\" href=\"https://colab.research.google.com/github/devnums/pyheartlib/blob/main/examples/dataset/arrhythmia.ipynb\"><img src=\"https://colab.research.google.com/assets/colab-badge.svg\" alt=\"Open In Colab\"/></a> "
      ]
    },
    {
      "attachments": {},
      "cell_type": "markdown",
      "metadata": {
        "id": "cNNn6VeBuvSr"
      },
      "source": [
        "## Install pyheartlib"
      ]
    },
    {
      "attachments": {},
      "cell_type": "markdown",
      "metadata": {},
      "source": [
        "First, `pyheartlib` needs to be installed."
      ]
    },
    {
      "cell_type": "code",
      "execution_count": 23,
      "metadata": {
        "colab": {
          "base_uri": "https://localhost:8080/"
        },
        "id": "QKGXbG9vu2dD",
        "outputId": "c562f3ec-7429-4495-8cfe-f209fdfa8266"
      },
      "outputs": [
        {
          "name": "stdout",
          "output_type": "stream",
          "text": [
            "Pyheartlib version 1.20.1 is already installed!\n"
          ]
        }
      ],
      "source": [
        "try:\n",
        "    import pyheartlib\n",
        "    print(f'Pyheartlib version {pyheartlib.__version__} is already installed!')\n",
        "except ModuleNotFoundError:\n",
        "    print('Installing pyheartlib...')\n",
        "    %pip install pyheartlib\n",
        "    print(f'Pyheartlib version {pyheartlib.__version__} is installed!')"
      ]
    },
    {
      "attachments": {},
      "cell_type": "markdown",
      "metadata": {
        "id": "8hpCPM97u_VG"
      },
      "source": [
        "## Download raw data"
      ]
    },
    {
      "attachments": {},
      "cell_type": "markdown",
      "metadata": {},
      "source": [
        "`Pyheartlib` supports the WFDB format. A popular dataset that uses this format is the \"MIT-BIH Arrhythmia Database\". The code below downloads this dataset and stores it in the data directory."
      ]
    },
    {
      "cell_type": "code",
      "execution_count": 24,
      "metadata": {
        "id": "plkXMr9mvJ4_",
        "tags": [
          "hide-cell"
        ]
      },
      "outputs": [],
      "source": [
        "# Download the raw data and store them in the base data directory\n",
        "from pathlib import Path\n",
        "if not Path('data').is_dir():\n",
        "  print('downloading raw data...')\n",
        "  import io, zipfile\n",
        "  from urllib.request import urlopen\n",
        "  url='https://www.physionet.org/static/published-projects/mitdb/mit-bih-arrhythmia-database-1.0.0.zip'\n",
        "  with urlopen(url) as rs:\n",
        "      zipf = zipfile.ZipFile(io.BytesIO(rs.read()))\n",
        "      zipf.extractall('data/')\n",
        "\n",
        "  # Create the config file. For this example, it will be download from the original repository\n",
        "  with urlopen(\"https://raw.githubusercontent.com/devnums/pyheartlib/main/src/pyheartlib/config.yaml\") as file:\n",
        "      content = file.read().decode()\n",
        "  with open(\"data/config.yaml\", 'w') as file:\n",
        "      file.write(content)"
      ]
    },
    {
      "attachments": {},
      "cell_type": "markdown",
      "metadata": {
        "id": "ThOyX1kJvadZ"
      },
      "source": [
        "## Create dataset"
      ]
    },
    {
      "attachments": {},
      "cell_type": "markdown",
      "metadata": {},
      "source": [
        "To create a dataset for arrhythmia classification, the `RhythmData` class must be used. This class can be imported using the code below.\n",
        "```python\n",
        "from pyheartlib.data_rhythm import RhythmData\n",
        "```\n",
        "\n",
        "The next step is to create an object of the `pyheartlib.data_rhythm.RhythmData`. \n",
        "\n",
        "```python\n",
        "rhythm_data = RhythmData(\n",
        "    base_path=\"data\", remove_bl=False, lowpass=False, progress_bar=False\n",
        ")\n",
        "```\n",
        "\n",
        "Descriptions of all the parameters can be found [here](../introduction.html#directive-rdt).\n",
        "\n",
        "Using the `save_dataset()` method, the dataset will be created.\n",
        "\n",
        "```python\n",
        "rhythm_data.save_dataset(\n",
        "    rec_list=train_set, file_name=\"train.arr\", win_size=3600, stride=64\n",
        ")\n",
        "```\n",
        "\n",
        "Let's create the dataset by running the next code block."
      ]
    },
    {
      "cell_type": "code",
      "execution_count": 25,
      "metadata": {
        "colab": {
          "base_uri": "https://localhost:8080/"
        },
        "id": "hn_ML1DHl1XT",
        "outputId": "4b3c2395-03be-42af-df9b-e0fc146f7a63"
      },
      "outputs": [
        {
          "name": "stdout",
          "output_type": "stream",
          "text": [
            "File saved at: data/train.arr\n"
          ]
        }
      ],
      "source": [
        "import numpy as np\n",
        "import pandas as pd\n",
        "from pyheartlib.data_rhythm import RhythmData\n",
        "\n",
        "# Make an instance of the RhythmData\n",
        "rhythm_data = RhythmData(\n",
        "    base_path=\"data\", remove_bl=False, lowpass=False, progress_bar=False\n",
        ")\n",
        "\n",
        "# Define records\n",
        "train_set = [201, 203]\n",
        "\n",
        "# Create the dataset\n",
        "rhythm_data.save_dataset(\n",
        "    rec_list=train_set, file_name=\"train.arr\", win_size=3600, stride=64\n",
        ")\n"
      ]
    },
    {
      "attachments": {},
      "cell_type": "markdown",
      "metadata": {},
      "source": [
        "Now that the dataset is ready, it can be loaded using the `load_dataset()` function.\n",
        "```python\n",
        "from pyheartlib.data_rhythm import load_dataset\n",
        "annotated_records, samples_info = load_dataset(\"data/train.arr\")\n",
        "```\n",
        "\n",
        "Let's load the data and count the number of samples for each arrhythmia class."
      ]
    },
    {
      "cell_type": "code",
      "execution_count": 26,
      "metadata": {},
      "outputs": [
        {
          "name": "stdout",
          "output_type": "stream",
          "text": [
            "File loaded from: data/train.arr\n",
            "           0     1     2     3\n",
            "Label  (AFIB  (AFL    (N    (T\n",
            "Count  10330  1656  3594  1584\n"
          ]
        }
      ],
      "source": [
        "# Load the dataset\n",
        "from pyheartlib.data_rhythm import load_dataset\n",
        "annotated_records, samples_info = load_dataset(\"data/train.arr\")\n",
        "\n",
        "labels = []\n",
        "for sample in samples_info:\n",
        "    labels.append(sample[3])\n",
        "class_labels = list(np.unique(labels))\n",
        "df = pd.DataFrame(np.unique(labels, return_counts=True), index=[\"Label\", \"Count\"])\n",
        "print(df)"
      ]
    },
    {
      "attachments": {},
      "cell_type": "markdown",
      "metadata": {},
      "source": [
        "The metadata of a sample is a list: [record ID, onset, offset, annotation]"
      ]
    },
    {
      "cell_type": "code",
      "execution_count": 27,
      "metadata": {},
      "outputs": [
        {
          "name": "stdout",
          "output_type": "stream",
          "text": [
            "[0, 17024, 20624, '(AFIB']\n"
          ]
        }
      ],
      "source": [
        "# Metadata of a sample excerpt\n",
        "# [record ID, onset, offset, annotation]\n",
        "print(samples_info[265])"
      ]
    },
    {
      "attachments": {},
      "cell_type": "markdown",
      "metadata": {},
      "source": [
        "## Generate data samples"
      ]
    },
    {
      "attachments": {},
      "cell_type": "markdown",
      "metadata": {},
      "source": [
        "In this section, the dataset that was created in the previous section will be used to generate batches of sample data. To accomplish this, an instance of `pyheartlib.data_rhythm.ECGSequence` must be created.\n",
        "```python\n",
        "from pyheartlib.data_rhythm import ECGSequence\n",
        "\n",
        "ecgseq = ECGSequence(\n",
        "    annotated_records,\n",
        "    samples_info,\n",
        "    class_labels=None,\n",
        "    batch_size=3,\n",
        "    raw=True,\n",
        "    interval=36,\n",
        "    shuffle=False,\n",
        "    rri_length=20\n",
        ")\n",
        "```\n",
        "\n",
        "The `ECGSequence` takes the  *annotated_records* (ECG records) and the *samples_info* (metadata) that were loaded previously.\n",
        "\n",
        "Other parameters that `ECGSequence` takes can be found [here](../introduction.html#directive-rsq).\n",
        "\n",
        "Let's generate a batch of data and examine the shapes and values of the samples."
      ]
    },
    {
      "cell_type": "code",
      "execution_count": 28,
      "metadata": {
        "colab": {
          "base_uri": "https://localhost:8080/"
        },
        "id": "1oytifKLl1XW",
        "outputId": "fca860bc-fa1d-4f66-b69c-900ae973b4f4"
      },
      "outputs": [
        {
          "name": "stdout",
          "output_type": "stream",
          "text": [
            "Batch_annotation shape: (3,)\n",
            "Batch_wave shape: (3, 2, 3600)  , Batch_rri shape: (3, 25)  , Batch_rri_feat shape: (3, 9)\n",
            "Length of each sample excerpt: 3600\n"
          ]
        }
      ],
      "source": [
        "# Generate data in batch using he ECGSequence\n",
        "\n",
        "# Returns a tuple containing two elements when its object is utilized in\n",
        "# this way: ECGSequence_object[BatchNo].\n",
        "\n",
        "# The first element (Batch_x) contains data samples and the\n",
        "# second one (Batch_y) their associated annotation.\n",
        "\n",
        "# If `rri_output` is True, Batch_x is a list of NumPy arrays of\n",
        "# Batch_wave, Batch_rri, Batch_rri_feat.\n",
        "\n",
        "# Batch_wave contains signal excerpts or their features, Batch_rri\n",
        "# contains RR-intervals, and Batch_rri_feat contains RR-interval features.\n",
        "\n",
        "# If `rri_output` is False, Batch_x contains Batch_wave only.\n",
        "\n",
        "# If `raw` is False, Batch_wave has the shape of\n",
        "# (Batch size, Number of channels, Number of sub-segments, Number of features), \n",
        "# otherwise, it has the shape of (Batch size, Number of channels, Length of excerpt).\n",
        "\n",
        "# Batch_y has the shape of (Batch size, ).\n",
        "\n",
        "from pyheartlib.data_rhythm import ECGSequence\n",
        "\n",
        "ecgseq = ECGSequence(\n",
        "    annotated_records,\n",
        "    samples_info,\n",
        "    class_labels=None,\n",
        "    batch_size=3,\n",
        "    raw=True,\n",
        "    interval=36,\n",
        "    shuffle=False,\n",
        "    rri_output=True,\n",
        "    rri_length=25\n",
        ")\n",
        "bt = 0  # Batch number\n",
        "batch_x, batch_y = ecgseq[bt]\n",
        "batch_annotation = batch_y  # Annotation\n",
        "batch_wave = batch_x[0]  # Excerpt\n",
        "batch_rri = batch_x[1]  # RR-intervals\n",
        "batch_rri_feat = batch_x[2]  # Computed RR-interval features\n",
        "print(\"Batch_annotation shape:\", batch_annotation.shape)\n",
        "print(\n",
        "    \"Batch_wave shape:\",\n",
        "    batch_wave.shape,\n",
        "    \" , Batch_rri shape:\",\n",
        "    batch_rri.shape,\n",
        "    \" , Batch_rri_feat shape:\",\n",
        "    batch_rri_feat.shape,\n",
        ")\n",
        "print(\"Length of each sample excerpt:\", batch_wave.shape[2])"
      ]
    },
    {
      "cell_type": "code",
      "execution_count": 29,
      "metadata": {},
      "outputs": [
        {
          "name": "stdout",
          "output_type": "stream",
          "text": [
            "['(AFIB' '(AFIB' '(AFIB']\n"
          ]
        }
      ],
      "source": [
        "# Annotations of the samples in the batch\n",
        "print(batch_annotation)"
      ]
    },
    {
      "cell_type": "code",
      "execution_count": 30,
      "metadata": {},
      "outputs": [
        {
          "name": "stdout",
          "output_type": "stream",
          "text": [
            "Length of each excerpt: 3600\n"
          ]
        },
        {
          "data": {
            "image/png": "[encoded data removed]",
            "text/plain": [
              "<Figure size 600x300 with 1 Axes>"
            ]
          },
          "metadata": {},
          "output_type": "display_data"
        }
      ],
      "source": [
        "# Plot an output excerpt of the batch\n",
        "wf = batch_wave[0]\n",
        "wf_ch1 = wf[0]\n",
        "wf_ch2 = wf[1]\n",
        "print(f'Length of each excerpt: {len(wf_ch1)}')\n",
        "\n",
        "import matplotlib.pyplot as plt\n",
        "plt.figure(figsize=(6, 3))\n",
        "plt.plot(wf_ch1);\n",
        "plt.plot(wf_ch2);\n",
        "chs = rhythm_data.config[\"CHANNEL\"]\n",
        "plt.legend([chs[0], chs[1]], loc=\"upper right\");"
      ]
    },
    {
      "cell_type": "code",
      "execution_count": 31,
      "metadata": {},
      "outputs": [
        {
          "name": "stdout",
          "output_type": "stream",
          "text": [
            "[0.71111111 0.75277778 0.60833333 0.78888889 0.64722222 0.55277778\n",
            " 0.95555556 0.75277778 0.71944444 0.62777778 0.65       0.67222222\n",
            " 0.75833333 0.         0.         0.         0.         0.\n",
            " 0.         0.         0.         0.         0.         0.\n",
            " 0.        ]\n"
          ]
        }
      ],
      "source": [
        "# RR-intervals availble in a sample, the list is zero-padded on the right side\n",
        "print(batch_rri[0])"
      ]
    },
    {
      "attachments": {},
      "cell_type": "markdown",
      "metadata": {},
      "source": [
        "The code below generates a batch with the `raw` parameter set to *False*. In this case, the generated batch contains computed features instead of raw waveform."
      ]
    },
    {
      "cell_type": "code",
      "execution_count": 32,
      "metadata": {
        "colab": {
          "base_uri": "https://localhost:8080/"
        },
        "id": "tgBeQEBQl1XX",
        "outputId": "9cbb2a9b-06a5-471f-8522-655d08e0f067"
      },
      "outputs": [
        {
          "name": "stdout",
          "output_type": "stream",
          "text": [
            "Batch_annotation shape: (3,)\n",
            "Batch_wave shape: (3, 2, 100, 14)  , Batch_rri shape: (3, 150)  , Batch_rri_feat shape: (3, 9)\n"
          ]
        }
      ],
      "source": [
        "# When raw is set to False\n",
        "ecgseq = ECGSequence(\n",
        "    annotated_records,\n",
        "    samples_info,\n",
        "    class_labels=None,\n",
        "    batch_size=3,\n",
        "    raw=False,\n",
        "    interval=36,\n",
        "    rri_output=True,\n",
        "    rri_length=150\n",
        ")\n",
        "bt = 0  # Batch number\n",
        "batch_x, batch_y = ecgseq[bt]\n",
        "batch_annotation = batch_y  # Annotation\n",
        "\n",
        "batch_wave = batch_x[0]  # Excerpt\n",
        "batch_rri = batch_x[1]  # RR-intervals\n",
        "batch_rri_feat = batch_x[2]  # Computed RR-interval features\n",
        "print(\"Batch_annotation shape:\", batch_annotation.shape)\n",
        "print(\n",
        "    \"Batch_wave shape:\",\n",
        "    batch_wave.shape,\n",
        "    \" , Batch_rri shape:\",\n",
        "    batch_rri.shape,\n",
        "    \" , Batch_rri_feat shape:\",\n",
        "    batch_rri_feat.shape,\n",
        ")"
      ]
    }
  ],
  "metadata": {
    "colab": {
      "provenance": []
    },
    "kernelspec": {
      "display_name": ".venv",
      "language": "python",
      "name": "python3"
    },
    "language_info": {
      "codemirror_mode": {
        "name": "ipython",
        "version": 3
      },
      "file_extension": ".py",
      "mimetype": "text/x-python",
      "name": "python",
      "nbconvert_exporter": "python",
      "pygments_lexer": "ipython3",
      "version": "3.10.0"
    },
    "vscode": {
      "interpreter": {
        "hash": "2b3da7df89b26757d5cc0b3b4f4abb3b520ebd829fe30c0197712adb7acae5b8"
      }
    }
  },
  "nbformat": 4,
  "nbformat_minor": 0
}
