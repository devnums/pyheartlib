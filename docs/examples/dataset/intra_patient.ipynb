{
    "cells": [
        {
            "attachments": {},
            "cell_type": "markdown",
            "metadata": {},
            "source": [
                "# Intra-patient beat"
            ]
        },
        {
            "attachments": {},
            "cell_type": "markdown",
            "metadata": {},
            "source": [
                "This example demostrates how to create intra-patient datasets."
            ]
        },
        {
            "cell_type": "code",
            "execution_count": 1,
            "metadata": {},
            "outputs": [
                {
                    "name": "stdout",
                    "output_type": "stream",
                    "text": [
                        "['F_absmean_sdrri', 'F_beat_kurtosis', 'F_beat_max', 'F_beat_mean', 'F_beat_min', 'F_beat_rms', 'F_beat_skewness', 'F_beat_std', 'F_compensate_diff_nr', 'F_compensate_ratio', 'F_diff_post_avg_nr', 'F_diff_post_pre', 'F_diff_post_pre_nr', 'F_diff_pre_avg_nr', 'F_fft_features', 'F_heart_rate', 'F_maxmin_diff', 'F_maxmin_diff_norm', 'F_mean_pre_rri', 'F_mean_pre_sdrri', 'F_mean_sdrri', 'F_median_rri', 'F_new_feature1', 'F_new_feature2', 'F_nsampels', 'F_post_rri', 'F_pre_rri', 'F_ratio_post_pre', 'F_ratio_post_rms', 'F_ratio_pre_rms', 'F_rms_rri', 'F_rms_sdrri', 'F_std_rri', 'F_std_sdrri', 'F_subsegs']\n",
                        "File saved at: ../../../data/intra_train.beat\n",
                        "File saved at: ../../../data/intra_test.beat\n",
                        "File loaded from: ../../../data/intra_train.beat\n",
                        "-Shape of \"waveforms\" is (1897, 400). Number of samples is 1897.\n",
                        "-Shape of \"beat_feats\" is (1897, 5). Number of samples is 1897.\n",
                        "-Shape of \"labels\" is (1897,). Number of samples is 1897.\n",
                        "                     N  L  R  j  e   V  E   A  S  a  J  F  f  /  Q\n",
                        "intra_train.beat  1781  0  0  0  0  57  0  59  0  0  0  0  0  0  0\n",
                        "\n",
                        "File loaded from: ../../../data/intra_test.beat\n",
                        "-Shape of \"waveforms\" is (4431, 400). Number of samples is 4431.\n",
                        "-Shape of \"beat_feats\" is (4431, 5). Number of samples is 4431.\n",
                        "-Shape of \"labels\" is (4431,). Number of samples is 4431.\n",
                        "                    N  L  R  j  e    V  E    A  S  a  J  F  f  /  Q\n",
                        "intra_test.beat  3995  0  0  0  0  108  0  327  0  0  0  1  0  0  0\n",
                        "\n"
                    ]
                }
            ],
            "source": [
                "from pyheartlib.data_beat import BeatData\n",
                "from pyheartlib.beat_info import BeatInfo\n",
                "\n",
                "# Intra-patient\n",
                "# Lets create a BeatData object.\n",
                "beatdata = BeatData(base_path=\"../../../data\", win=[200, 200], remove_bl=False, lowpass=False, progress_bar=False)\n",
                "\n",
                "# Create a BeatInfo object for features calculations.\n",
                "beatinfo = BeatInfo()\n",
                "\n",
                "# Define custom features\n",
                "def F_new_feature1(self):\n",
                "    return 1.07\n",
                "\n",
                "def F_new_feature2(self):\n",
                "    post = beatinfo.F_post_rri()\n",
                "    pre = beatinfo.F_pre_rri()\n",
                "    ret = {\"Post\": post, \"Pre\": pre}\n",
                "    return ret\n",
                "\n",
                "# Add custom features\n",
                "new_features = [F_new_feature1, F_new_feature2]\n",
                "beatinfo.add_features(new_features)\n",
                "\n",
                "# Get a list of available features\n",
                "print(beatinfo.available_features()) \n",
                "\n",
                "# Select the desired features\n",
                "beatinfo.select_features([\"F_beat_max\", \"F_beat_skewness\", \"F_new_feature1\", \"F_new_feature2\"])\n",
                "\n",
                "# Use the save_dataset_intra method to create the dataset file.\n",
                "# The file will be saved in the base data directory.\n",
                "beatdata.save_dataset_intra([209, 215], beatinfo)\n",
                "\n",
                "# Load processed datasets\n",
                "train_ds = beatdata.load_data(file_name=\"intra_train.beat\")\n",
                "test_ds = beatdata.load_data(file_name=\"intra_test.beat\") "
            ]
        },
        {
            "cell_type": "code",
            "execution_count": 2,
            "metadata": {},
            "outputs": [
                {
                    "name": "stdout",
                    "output_type": "stream",
                    "text": [
                        "          N  L  R  j  e    V  E    A  S  a  J  F  f  /  Q\n",
                        "Train  1781  0  0  0  0   57  0   59  0  0  0  0  0  0  0\n",
                        "Test   3995  0  0  0  0  108  0  327  0  0  0  1  0  0  0\n"
                    ]
                }
            ],
            "source": [
                "# Number of samples per class\n",
                "stat_report = beatdata.report_stats_table(\n",
                "    [train_ds[\"labels\"], test_ds[\"labels\"]], [\"Train\", \"Test\"]\n",
                ")\n",
                "print(stat_report)"
            ]
        },
        {
            "cell_type": "code",
            "execution_count": 3,
            "metadata": {},
            "outputs": [
                {
                    "name": "stdout",
                    "output_type": "stream",
                    "text": [
                        "      F_beat_max  F_beat_skewness  F_new_feature1        Post         Pre\n",
                        "999        0.885         1.090895            1.07  583.333333  555.555556\n",
                        "1000       0.710         0.565561            1.07  550.000000  583.333333\n",
                        "1001       0.650         0.376462            1.07  566.666667  550.000000\n"
                    ]
                }
            ],
            "source": [
                "print(train_ds['beat_feats'].tail(3))"
            ]
        }
    ],
    "metadata": {
        "kernelspec": {
            "display_name": ".venv",
            "language": "python",
            "name": "python3"
        },
        "language_info": {
            "codemirror_mode": {
                "name": "ipython",
                "version": 3
            },
            "file_extension": ".py",
            "mimetype": "text/x-python",
            "name": "python",
            "nbconvert_exporter": "python",
            "pygments_lexer": "ipython3",
            "version": "3.10.0"
        },
        "vscode": {
            "interpreter": {
                "hash": "2b3da7df89b26757d5cc0b3b4f4abb3b520ebd829fe30c0197712adb7acae5b8"
            }
        }
    },
    "nbformat": 4,
    "nbformat_minor": 4
}
