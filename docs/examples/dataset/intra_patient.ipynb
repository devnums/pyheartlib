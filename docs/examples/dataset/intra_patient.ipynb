{
    "cells": [
        {
            "attachments": {},
            "cell_type": "markdown",
            "metadata": {},
            "source": [
                "# Intra-patient beat"
            ]
        },
        {
            "attachments": {},
            "cell_type": "markdown",
            "metadata": {},
            "source": [
                "This example demostrates how to create intra-patient datasets."
            ]
        },
        {
            "cell_type": "code",
            "execution_count": null,
            "metadata": {},
            "outputs": [],
            "source": [
                "from pyheartlib.data_beat import BeatData\n",
                "from pyheartlib.beat_info import BeatInfo\n",
                "\n",
                "# Intra-patient\n",
                "# Lets create a BeatData object.\n",
                "beatdata = BeatData(base_path=\"../../../data\", win=[200, 200], remove_bl=False, lowpass=False, progress_bar=False)\n",
                "\n",
                "# Create a BeatInfo object for features calculations.\n",
                "beatinfo = BeatInfo()\n",
                "\n",
                "# Define custom features\n",
                "def F_new_feature1(self):\n",
                "    return 1.07\n",
                "\n",
                "def F_new_feature2(self):\n",
                "    post = beatinfo.F_post_rri()\n",
                "    pre = beatinfo.F_pre_rri()\n",
                "    ret = {\"Post\": post, \"Pre\": pre}\n",
                "    return ret\n",
                "\n",
                "# Add custom features\n",
                "new_features = [F_new_feature1, F_new_feature2]\n",
                "beatinfo.add_features(new_features)\n",
                "\n",
                "# Get a list of available features\n",
                "print(beatinfo.available_features()) \n",
                "\n",
                "# Select the desired features\n",
                "beatinfo.select_features([\"F_beat_max\", \"F_beat_skewness\", \"F_new_feature1\", \"F_new_feature2\"])\n",
                "\n",
                "# Use the save_dataset_intra method to create the dataset file.\n",
                "# The file will be saved in the base data directory.\n",
                "beatdata.save_dataset_intra([209, 215], beatinfo)\n",
                "\n",
                "# Load processed datasets\n",
                "train_ds = beatdata.load_data(file_name=\"intra_train.beat\")\n",
                "test_ds = beatdata.load_data(file_name=\"intra_test.beat\") "
            ]
        },
        {
            "cell_type": "code",
            "execution_count": null,
            "metadata": {},
            "outputs": [],
            "source": [
                "# Number of samples per class\n",
                "stat_report = beatdata.report_stats_table(\n",
                "    [train_ds[\"labels\"], test_ds[\"labels\"]], [\"Train\", \"Test\"]\n",
                ")\n",
                "print(stat_report)"
            ]
        },
        {
            "cell_type": "code",
            "execution_count": null,
            "metadata": {},
            "outputs": [],
            "source": [
                "print(train_ds['beat_feats'].tail(3))"
            ]
        }
    ],
    "metadata": {
        "kernelspec": {
            "display_name": ".venv",
            "language": "python",
            "name": "python3"
        },
        "language_info": {
            "codemirror_mode": {
                "name": "ipython",
                "version": 3
            },
            "file_extension": ".py",
            "mimetype": "text/x-python",
            "name": "python",
            "nbconvert_exporter": "python",
            "pygments_lexer": "ipython3",
            "version": "3.10.0"
        },
        "vscode": {
            "interpreter": {
                "hash": "2b3da7df89b26757d5cc0b3b4f4abb3b520ebd829fe30c0197712adb7acae5b8"
            }
        }
    },
    "nbformat": 4,
    "nbformat_minor": 4
}
