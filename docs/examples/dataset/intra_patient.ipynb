{
    "cells": [
        {
            "attachments": {},
            "cell_type": "markdown",
            "metadata": {},
            "source": [
                "# Intra-patient beat"
            ]
        },
        {
            "attachments": {},
            "cell_type": "markdown",
            "metadata": {},
            "source": [
                "This example demostrates how to create intra-patient datasets."
            ]
        },
        {
            "cell_type": "code",
            "execution_count": 1,
            "metadata": {},
            "outputs": [
                {
                    "name": "stdout",
                    "output_type": "stream",
                    "text": [
                        "['F_absmean_sdrri', 'F_beat_kurtosis', 'F_beat_max', 'F_beat_mean', 'F_beat_min', 'F_beat_rms', 'F_beat_skewness', 'F_beat_std', 'F_compensate_diff_nr', 'F_compensate_ratio', 'F_diff_post_avg_nr', 'F_diff_post_pre', 'F_diff_post_pre_nr', 'F_diff_pre_avg_nr', 'F_heart_rate', 'F_maxmin_diff', 'F_maxmin_diff_norm', 'F_mean_pre_rri', 'F_mean_pre_sdrri', 'F_mean_sdrri', 'F_median_rri', 'F_new_feature1', 'F_new_feature2', 'F_onbeat_sdrri', 'F_post_rri', 'F_post_sdrri', 'F_pre_rri', 'F_pre_sdrri', 'F_ratio_post_pre', 'F_ratio_post_rms', 'F_ratio_pre_rms', 'F_rms_rri', 'F_rms_sdrri', 'F_std_rri', 'F_std_sdrri']\n",
                        "File saved at: ../../data/intra_train.beat\n",
                        "File saved at: ../../data/intra_test.beat\n",
                        "File loaded from: ../../data/intra_train.beat\n",
                        "-Shape of \"waveforms\" is (3280, 400). Number of samples is 3280.\n",
                        "-Shape of \"beat_feats\" is (3280, 5). Number of samples is 3280.\n",
                        "-Shape of \"labels\" is (3280,). Number of samples is 3280.\n",
                        "                     N  L  R  j  e   V  E    A  S  a  J  F  f  /  Q\n",
                        "intra_train.beat  3084  0  0  0  5  78  0  107  0  0  0  6  0  0  0\n",
                        "\n",
                        "File loaded from: ../../data/intra_test.beat\n",
                        "-Shape of \"waveforms\" is (7661, 400). Number of samples is 7661.\n",
                        "-Shape of \"beat_feats\" is (7661, 5). Number of samples is 7661.\n",
                        "-Shape of \"labels\" is (7661,). Number of samples is 7661.\n",
                        "                    N  L  R  j   e    V  E    A  S  a  J  F  f  /  Q\n",
                        "intra_test.beat  6635  0  0  0  11  560  0  445  0  1  0  9  0  0  0\n",
                        "\n"
                    ]
                }
            ],
            "source": [
                "from pyheartlib.data_beat import BeatData\n",
                "from pyheartlib.beat_info import BeatInfo\n",
                "\n",
                "# Intra-patient\n",
                "# Lets create a BeatData object.the train set by creating\n",
                "beatdata = BeatData(base_path=\"../../data\", win=[200, 200], remove_bl=False, lowpass=False, progress_bar=False)\n",
                "\n",
                "# Create a BeatInfo object for features calculations.\n",
                "beatinfo = BeatInfo(beat_loc=beatdata.beat_loc)\n",
                "\n",
                "def F_new_feature1(self):\n",
                "    return 1.07\n",
                "\n",
                "def F_new_feature2(self):\n",
                "    post = beatinfo.F_post_rri()\n",
                "    pre = beatinfo.F_pre_rri()\n",
                "    return post - pre\n",
                "\n",
                "new_features = [F_new_feature1, F_new_feature2]\n",
                "beatinfo.add_features(new_features)  \n",
                "print(beatinfo.available_features()) \n",
                "\n",
                "beatinfo.select_features([\"F_beat_max\", \"F_beat_min\", \"F_beat_skewness\", \"F_new_feature1\", \"F_new_feature2\"])\n",
                "\n",
                "# The file will be saved in the base data directory.\n",
                "beatdata.save_dataset_intra(beatdata.config[\"DS1\"][17:21], beatinfo)\n",
                "\n",
                "# Loading the sets\n",
                "train_ds = beatdata.load_data(file_name=\"intra_train.beat\")\n",
                "test_ds = beatdata.load_data(file_name=\"intra_test.beat\") "
            ]
        },
        {
            "cell_type": "code",
            "execution_count": 2,
            "metadata": {},
            "outputs": [
                {
                    "name": "stdout",
                    "output_type": "stream",
                    "text": [
                        "          N  L  R  j   e    V  E    A  S  a  J  F  f  /  Q\n",
                        "Train  3084  0  0  0   5   78  0  107  0  0  0  6  0  0  0\n",
                        "Test   6635  0  0  0  11  560  0  445  0  1  0  9  0  0  0\n"
                    ]
                }
            ],
            "source": [
                "# Number of samples per class\n",
                "stat_report = beatdata.report_stats_table(\n",
                "    [train_ds[\"labels\"], test_ds[\"labels\"]], [\"Train\", \"Test\"]\n",
                ")\n",
                "print(stat_report)"
            ]
        },
        {
            "cell_type": "code",
            "execution_count": 3,
            "metadata": {},
            "outputs": [
                {
                    "name": "stdout",
                    "output_type": "stream",
                    "text": [
                        "   F_beat_max  F_beat_min  F_beat_skewness  F_new_feature1  F_new_feature2\n",
                        "0       1.105      -0.940         2.296307            1.07      -30.555556\n",
                        "1       1.035      -0.875         1.878885            1.07        0.000000\n",
                        "2       1.355      -0.800         3.137751            1.07        2.777778\n"
                    ]
                }
            ],
            "source": [
                "print(train_ds['beat_feats'].head(3))"
            ]
        }
    ],
    "metadata": {
        "kernelspec": {
            "display_name": ".venv",
            "language": "python",
            "name": "python3"
        },
        "language_info": {
            "codemirror_mode": {
                "name": "ipython",
                "version": 3
            },
            "file_extension": ".py",
            "mimetype": "text/x-python",
            "name": "python",
            "nbconvert_exporter": "python",
            "pygments_lexer": "ipython3",
            "version": "3.10.6"
        },
        "vscode": {
            "interpreter": {
                "hash": "9fd6400921a74d4977f085f54e09dfc34df36c76946b15109ee197d34742e689"
            }
        }
    },
    "nbformat": 4,
    "nbformat_minor": 4
}
