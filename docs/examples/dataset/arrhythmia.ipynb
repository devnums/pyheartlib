{
    "cells": [
        {
            "attachments": {},
            "cell_type": "markdown",
            "metadata": {},
            "source": [
                "# Arrhythmia"
            ]
        },
        {
            "attachments": {},
            "cell_type": "markdown",
            "metadata": {},
            "source": [
                "This example demostrates how to create an arrhythmia dataset. "
            ]
        },
        {
            "cell_type": "code",
            "execution_count": null,
            "metadata": {},
            "outputs": [],
            "source": [
                "import numpy as np\n",
                "import pandas as pd\n",
                "from pyheartlib.io import load_data\n",
                "from pyheartlib.data_arrhythmia import ArrhythmiaData, ECGSequence\n",
                "\n",
                "\n",
                "train_set = [201, 203]\n",
                "\n",
                "arrhythmia_data = ArrhythmiaData(\n",
                "    base_path=\"../../../data\", remove_bl=False, lowpass=False, progress_bar=False\n",
                ")\n",
                "annotated_records, samples_info = arrhythmia_data.save_samples(\n",
                "    rec_list=train_set, file_name=\"train.arr\", win_size=3600, stride=64\n",
                ")\n",
                "annotated_records, samples_info = load_data(\"../../../data/train.arr\")\n",
                "\n",
                "labels = []\n",
                "for sample in samples_info:\n",
                "    labels.append(sample[3])\n",
                "df = pd.DataFrame(np.unique(labels, return_counts=True), index=[\"Label\", \"Count\"])\n",
                "print(df)\n",
                "class_labels = list(np.unique(labels))\n"
            ]
        },
        {
            "cell_type": "code",
            "execution_count": null,
            "metadata": {},
            "outputs": [],
            "source": [
                "# if raw=True\n",
                "training_generator = ECGSequence(\n",
                "    annotated_records, samples_info, class_labels=None, batch_size=3, raw=True\n",
                ")\n",
                "bt = 0\n",
                "batch_label = training_generator.__getitem__(bt)[1]  # excerpt label\n",
                "batch_seq = training_generator.__getitem__(bt)[0][0]  # excerpt values\n",
                "batch_rri = training_generator.__getitem__(bt)[0][1]  # rr intervals\n",
                "batch_rri_feat = training_generator.__getitem__(bt)[0][2]  # calculated rri features\n",
                "print(\"batch_label shape:\", batch_label.shape)\n",
                "print(\n",
                "    \"batch_seq shape:\",\n",
                "    batch_seq.shape,\n",
                "    \" , batch_rri shape:\",\n",
                "    batch_rri.shape,\n",
                "    \" , batch_rri_feat shape:\",\n",
                "    batch_rri_feat.shape,\n",
                ")"
            ]
        },
        {
            "cell_type": "code",
            "execution_count": null,
            "metadata": {},
            "outputs": [],
            "source": [
                "# if raw=False\n",
                "training_generator = ECGSequence(\n",
                "    annotated_records, samples_info, class_labels=None, batch_size=3, raw=False\n",
                ")\n",
                "i = 0\n",
                "batch_label = training_generator.__getitem__(bt)[1]  # excerpt label\n",
                "batch_seq = training_generator.__getitem__(bt)[0][0]  # excerpt values\n",
                "batch_rri = training_generator.__getitem__(bt)[0][1]  # rr intervals\n",
                "batch_rri_feat = training_generator.__getitem__(bt)[0][2]  # calculated rri features\n",
                "print(\"batch_label shape:\", batch_label.shape)\n",
                "print(\n",
                "    \"batch_seq shape:\",\n",
                "    batch_seq.shape,\n",
                "    \" , batch_rri shape:\",\n",
                "    batch_rri.shape,\n",
                "    \" , batch_rri_feat shape:\",\n",
                "    batch_rri_feat.shape,\n",
                ")"
            ]
        }
    ],
    "metadata": {
        "kernelspec": {
            "display_name": ".venv",
            "language": "python",
            "name": "python3"
        },
        "language_info": {
            "codemirror_mode": {
                "name": "ipython",
                "version": 3
            },
            "file_extension": ".py",
            "mimetype": "text/x-python",
            "name": "python",
            "nbconvert_exporter": "python",
            "pygments_lexer": "ipython3",
            "version": "3.10.0"
        },
        "vscode": {
            "interpreter": {
                "hash": "2b3da7df89b26757d5cc0b3b4f4abb3b520ebd829fe30c0197712adb7acae5b8"
            }
        }
    },
    "nbformat": 4,
    "nbformat_minor": 4
}
