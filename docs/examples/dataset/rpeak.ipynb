{
    "cells": [
        {
            "attachments": {},
            "cell_type": "markdown",
            "metadata": {},
            "source": [
                "# Rpeak"
            ]
        },
        {
            "attachments": {},
            "cell_type": "markdown",
            "metadata": {},
            "source": [
                "This example demostrates how to create an rpeak dataset. "
            ]
        },
        {
            "cell_type": "code",
            "execution_count": null,
            "metadata": {},
            "outputs": [],
            "source": [
                "import numpy as np\n",
                "import pandas as pd\n",
                "from pyheartlib.io import load_data\n",
                "from pyheartlib.data_rpeak import RpeakData, ECGSequence\n",
                "\n",
                "\n",
                "train_set = [201, 203]\n",
                "\n",
                "rpeak_data = RpeakData(\n",
                "    base_path=\"../../../data\", remove_bl=False, lowpass=False, progress_bar=False\n",
                ")\n",
                "annotated_records, samples_info = rpeak_data.save_samples(\n",
                "    rec_list=train_set, file_name=\"train.rpeak\", win_size=30 * 360, stride=360\n",
                ")\n",
                "annotated_records, samples_info = load_data(\"../../../data/train.rpeak\")\n",
                "\n",
                "labels = []\n",
                "for sample in samples_info:\n",
                "    labels.append(sample[3])\n",
                "df = pd.DataFrame(np.unique(labels, return_counts=True), index=[\"Label\", \"Count\"])\n",
                "print(df)"
            ]
        },
        {
            "cell_type": "code",
            "execution_count": null,
            "metadata": {},
            "outputs": [],
            "source": [
                "# if raw=True\n",
                "training_generator = ECGSequence(\n",
                "    annotated_records, samples_info, binary=False, batch_size=3, raw=True, interval=72\n",
                ")\n",
                "i = 0\n",
                "batch_y = training_generator.__getitem__(i)[1]  # excerpt label\n",
                "batch_x = training_generator.__getitem__(i)[0]  # excerpt values\n",
                "print(\"batch_x shape:\", batch_x.shape, \", batch_y shape:\", batch_y.shape)"
            ]
        },
        {
            "cell_type": "code",
            "execution_count": null,
            "metadata": {},
            "outputs": [],
            "source": [
                "# if raw=False\n",
                "training_generator = ECGSequence(\n",
                "    annotated_records, samples_info, binary=False, batch_size=3, raw=False, interval=72\n",
                ")\n",
                "i = 0\n",
                "batch_y = training_generator.__getitem__(i)[1]  # excerpt label\n",
                "batch_x = training_generator.__getitem__(i)[0]  # excerpt values\n",
                "print(\"batch_x shape:\", batch_x.shape, \", batch_y shape:\", batch_y.shape)\n"
            ]
        }
    ],
    "metadata": {
        "kernelspec": {
            "display_name": ".venv",
            "language": "python",
            "name": "python3"
        },
        "language_info": {
            "codemirror_mode": {
                "name": "ipython",
                "version": 3
            },
            "file_extension": ".py",
            "mimetype": "text/x-python",
            "name": "python",
            "nbconvert_exporter": "python",
            "pygments_lexer": "ipython3",
            "version": "3.10.0"
        },
        "vscode": {
            "interpreter": {
                "hash": "2b3da7df89b26757d5cc0b3b4f4abb3b520ebd829fe30c0197712adb7acae5b8"
            }
        }
    },
    "nbformat": 4,
    "nbformat_minor": 4
}
