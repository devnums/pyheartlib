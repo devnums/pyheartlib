{
  "cells": [
    {
      "cell_type": "markdown",
      "metadata": {
        "id": "SEtrl8gTC5Ew"
      },
      "source": [
        "# Rpeak"
      ]
    },
    {
      "attachments": {},
      "cell_type": "markdown",
      "metadata": {
        "id": "8HA9NsZP8X1M"
      },
      "source": [
        "This example demostrates how to create an rpeak dataset.  It is available on [GitHub](https://github.com/devnums/pyheartlib/blob/main/examples/).\n",
        "\n",
        "<a target=\"_blank\" href=\"https://colab.research.google.com/github/devnums/pyheartlib/blob/main/examples/dataset/rpeak.ipynb\"><img src=\"https://colab.research.google.com/assets/colab-badge.svg\" alt=\"Open In Colab\"/></a>"
      ]
    },
    {
      "attachments": {},
      "cell_type": "markdown",
      "metadata": {
        "id": "UPeScsiF8X1G"
      },
      "source": [
        "### Install pyheartlib"
      ]
    },
    {
      "cell_type": "code",
      "execution_count": null,
      "metadata": {
        "colab": {
          "base_uri": "https://localhost:8080/"
        },
        "id": "obxZZdj6_6pz",
        "outputId": "c31da37d-3dc0-4c28-ede5-0e92aab9e7bb"
      },
      "outputs": [
        {
          "name": "stdout",
          "output_type": "stream",
          "text": [
            "pyheartlib is already installed\n"
          ]
        }
      ],
      "source": [
        "try:\n",
        "    import pyheartlib\n",
        "    print('pyheartlib is already installed')\n",
        "except ModuleNotFoundError:\n",
        "    print('Installing pyheartlib...')\n",
        "    !pip install pyheartlib"
      ]
    },
    {
      "attachments": {},
      "cell_type": "markdown",
      "metadata": {
        "id": "LxoyIvD086sE"
      },
      "source": [
        "### Download raw data"
      ]
    },
    {
      "cell_type": "code",
      "execution_count": null,
      "metadata": {
        "id": "TDZUFoWV8844"
      },
      "outputs": [],
      "source": [
        "# download the raw data and store them in the data directory\n",
        "from pathlib import Path\n",
        "if not Path('data').is_dir():\n",
        "  print('downloading raw data...')\n",
        "  import io, zipfile\n",
        "  from urllib.request import urlopen\n",
        "  url='https://www.physionet.org/static/published-projects/mitdb/mit-bih-arrhythmia-database-1.0.0.zip'\n",
        "  with urlopen(url) as rs:\n",
        "      zipf = zipfile.ZipFile(io.BytesIO(rs.read()))\n",
        "      zipf.extractall('data/')\n",
        "\n",
        "  # create the config file, for this example just download it from the original repository\n",
        "  with urlopen(\"https://raw.githubusercontent.com/devnums/pyheartlib/main/src/pyheartlib/config.yaml\") as file:\n",
        "      content = file.read().decode()\n",
        "  with open(\"data/config.yaml\", 'w') as file:\n",
        "      file.write(content)"
      ]
    },
    {
      "attachments": {},
      "cell_type": "markdown",
      "metadata": {
        "id": "HjiXH9_V9GLT"
      },
      "source": [
        "### Create dataset"
      ]
    },
    {
      "cell_type": "code",
      "execution_count": null,
      "metadata": {
        "colab": {
          "base_uri": "https://localhost:8080/"
        },
        "id": "1Ne94OPk8X1N",
        "outputId": "4a3446ad-9d81-49f5-a1a4-1b881d9428ab"
      },
      "outputs": [
        {
          "name": "stdout",
          "output_type": "stream",
          "text": [
            "File saved at: data/train.rpeak\n",
            "File loaded from: data/train.rpeak\n",
            "            0    1   2   3       4    5      6     7    8\n",
            "Label       0    A   F   J       N    Q      V     a    j\n",
            "Count  919749  900  90  30  122358  120  19163  2923  267\n"
          ]
        }
      ],
      "source": [
        "import numpy as np\n",
        "import pandas as pd\n",
        "from pyheartlib.io import load_data\n",
        "from pyheartlib.data_rpeak import RpeakData, ECGSequence\n",
        "\n",
        "train_set = [201, 203]\n",
        "\n",
        "rpeak_data = RpeakData(\n",
        "    base_path=\"data\", remove_bl=False, lowpass=False, progress_bar=False\n",
        ")\n",
        "annotated_records, samples_info = rpeak_data.save_samples(\n",
        "    rec_list=train_set, file_name=\"train.rpeak\", win_size=30 * 360, stride=360\n",
        ")\n",
        "annotated_records, samples_info = load_data(\"data/train.rpeak\")\n",
        "\n",
        "labels = []\n",
        "for sample in samples_info:\n",
        "    labels.append(sample[3])\n",
        "df = pd.DataFrame(np.unique(labels, return_counts=True), index=[\"Label\", \"Count\"])\n",
        "print(df)"
      ]
    },
    {
      "cell_type": "code",
      "execution_count": null,
      "metadata": {
        "colab": {
          "base_uri": "https://localhost:8080/"
        },
        "id": "lBB1wIOP8X1R",
        "outputId": "ea268a79-6c10-4aee-fdbc-a95c7df6eb3a"
      },
      "outputs": [
        {
          "name": "stdout",
          "output_type": "stream",
          "text": [
            "batch_x shape: (3, 10800) , batch_y shape: (3, 150)\n"
          ]
        }
      ],
      "source": [
        "# if raw=True\n",
        "trainseq = ECGSequence(\n",
        "    annotated_records, samples_info, binary=False, batch_size=3, raw=True, interval=72\n",
        ")\n",
        "bt = 0  # batch number\n",
        "batch_y = trainseq[bt][1]  # excerpt label\n",
        "batch_x = trainseq[bt][0]  # excerpt values\n",
        "print(\"batch_x shape:\", batch_x.shape, \", batch_y shape:\", batch_y.shape)"
      ]
    },
    {
      "cell_type": "code",
      "execution_count": null,
      "metadata": {
        "colab": {
          "base_uri": "https://localhost:8080/"
        },
        "id": "aP_AVN-p8X1S",
        "outputId": "f92f5ba1-fad8-4b0d-cdd7-a6288695324d"
      },
      "outputs": [
        {
          "name": "stdout",
          "output_type": "stream",
          "text": [
            "batch_x shape: (3, 150, 14) , batch_y shape: (3, 150)\n"
          ]
        }
      ],
      "source": [
        "# if raw=False\n",
        "trainseq = ECGSequence(\n",
        "    annotated_records, samples_info, binary=False, batch_size=3, raw=False, interval=72\n",
        ")\n",
        "bt = 0  # batch number\n",
        "batch_y = trainseq[bt][1]  # excerpt label\n",
        "batch_x = trainseq[bt][0]  # excerpt values\n",
        "print(\"batch_x shape:\", batch_x.shape, \", batch_y shape:\", batch_y.shape)\n"
      ]
    }
  ],
  "metadata": {
    "colab": {
      "provenance": []
    },
    "kernelspec": {
      "display_name": ".venv",
      "language": "python",
      "name": "python3"
    },
    "language_info": {
      "codemirror_mode": {
        "name": "ipython",
        "version": 3
      },
      "file_extension": ".py",
      "mimetype": "text/x-python",
      "name": "python",
      "nbconvert_exporter": "python",
      "pygments_lexer": "ipython3",
      "version": "3.10.0"
    },
    "vscode": {
      "interpreter": {
        "hash": "2b3da7df89b26757d5cc0b3b4f4abb3b520ebd829fe30c0197712adb7acae5b8"
      }
    }
  },
  "nbformat": 4,
  "nbformat_minor": 0
}
