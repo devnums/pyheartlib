{
    "cells": [
        {
            "attachments": {},
            "cell_type": "markdown",
            "metadata": {},
            "source": [
                "# Inter-patient beat"
            ]
        },
        {
            "attachments": {},
            "cell_type": "markdown",
            "metadata": {},
            "source": [
                "This example demostrates how to create inter-patient datasets."
            ]
        },
        {
            "cell_type": "code",
            "execution_count": 1,
            "metadata": {},
            "outputs": [
                {
                    "name": "stdout",
                    "output_type": "stream",
                    "text": [
                        "['F_absmean_sdrri', 'F_beat_kurtosis', 'F_beat_max', 'F_beat_mean', 'F_beat_min', 'F_beat_rms', 'F_beat_skewness', 'F_beat_std', 'F_compensate_diff_nr', 'F_compensate_ratio', 'F_diff_post_avg_nr', 'F_diff_post_pre', 'F_diff_post_pre_nr', 'F_diff_pre_avg_nr', 'F_fft_features', 'F_heart_rate', 'F_maxmin_diff', 'F_maxmin_diff_norm', 'F_mean_pre_rri', 'F_mean_pre_sdrri', 'F_mean_sdrri', 'F_median_rri', 'F_new_feature1', 'F_new_feature2', 'F_nsampels', 'F_post_rri', 'F_pre_rri', 'F_ratio_post_pre', 'F_ratio_post_rms', 'F_ratio_pre_rms', 'F_rms_rri', 'F_rms_sdrri', 'F_std_rri', 'F_std_sdrri', 'F_subsegs']\n"
                    ]
                }
            ],
            "source": [
                "from pyheartlib.data_beat import BeatData\n",
                "from pyheartlib.beat_info import BeatInfo\n",
                "\n",
                "\n",
                "# Inter-patient\n",
                "# Lets create a BeatData object.\n",
                "beatdata = BeatData(\n",
                "    base_path=\"../../../data\",\n",
                "    win=[200, 200],\n",
                "    remove_bl=False,\n",
                "    lowpass=False,\n",
                "    progress_bar=False,\n",
                ")\n",
                "\n",
                "# Create a BeatInfo object for features calculations.\n",
                "beatinfo = BeatInfo()\n",
                "\n",
                "# Define custom features\n",
                "def F_new_feature1(self):\n",
                "    return 1.09\n",
                "\n",
                "\n",
                "def F_new_feature2(self):\n",
                "    post = beatinfo.F_post_rri()\n",
                "    pre = beatinfo.F_pre_rri()\n",
                "    ret = {\"Post\": post, \"Pre\": pre}\n",
                "    return ret\n",
                "\n",
                "# Add custom features\n",
                "new_features = [F_new_feature1, F_new_feature2]\n",
                "beatinfo.add_features(new_features)\n",
                "\n",
                "# Get a list of available features\n",
                "print(beatinfo.available_features())\n",
                "\n",
                "# Select the desired features\n",
                "beatinfo.select_features(\n",
                "    [\"F_beat_max\", \"F_beat_skewness\", \"F_new_feature1\", \"F_new_feature2\"]\n",
                ")"
            ]
        },
        {
            "cell_type": "code",
            "execution_count": 2,
            "metadata": {},
            "outputs": [
                {
                    "name": "stdout",
                    "output_type": "stream",
                    "text": [
                        "File saved at: ../../../data/train.beat\n"
                    ]
                }
            ],
            "source": [
                "# Use the save_dataset_inter method to create the dataset file.\n",
                "# The file will be saved in the base data directory.\n",
                "beatdata.save_dataset_inter([\"209\"], beatinfo, file=\"train.beat\")"
            ]
        },
        {
            "cell_type": "code",
            "execution_count": 3,
            "metadata": {},
            "outputs": [
                {
                    "name": "stdout",
                    "output_type": "stream",
                    "text": [
                        "File saved at: ../../../data/val.beat\n",
                        "File saved at: ../../../data/test.beat\n"
                    ]
                }
            ],
            "source": [
                "# In a similar way for validation and test sets\n",
                "beatdata.save_dataset_inter([\"215\", \"220\"], beatinfo, file=\"val.beat\")\n",
                "beatdata.save_dataset_inter([\"103\"], beatinfo, file=\"test.beat\")"
            ]
        },
        {
            "cell_type": "code",
            "execution_count": 4,
            "metadata": {},
            "outputs": [
                {
                    "name": "stdout",
                    "output_type": "stream",
                    "text": [
                        "File loaded from: ../../../data/train.beat\n",
                        "-Shape of \"waveforms\" is (2985, 400). Number of samples is 2985.\n",
                        "-Shape of \"beat_feats\" is (2985, 5). Number of samples is 2985.\n",
                        "-Shape of \"labels\" is (2985,). Number of samples is 2985.\n",
                        "               N  L  R  j  e  V  E    A  S  a  J  F  f  /  Q\n",
                        "train.beat  2601  0  0  0  0  1  0  383  0  0  0  0  0  0  0\n",
                        "\n",
                        "File loaded from: ../../../data/val.beat\n",
                        "-Shape of \"waveforms\" is (5371, 400). Number of samples is 5371.\n",
                        "-Shape of \"beat_feats\" is (5371, 5). Number of samples is 5371.\n",
                        "-Shape of \"labels\" is (5371,). Number of samples is 5371.\n",
                        "             N  L  R  j  e    V  E   A  S  a  J  F  f  /  Q\n",
                        "val.beat  5109  0  0  0  0  164  0  97  0  0  0  1  0  0  0\n",
                        "\n",
                        "File loaded from: ../../../data/test.beat\n",
                        "-Shape of \"waveforms\" is (2064, 400). Number of samples is 2064.\n",
                        "-Shape of \"beat_feats\" is (2064, 5). Number of samples is 2064.\n",
                        "-Shape of \"labels\" is (2064,). Number of samples is 2064.\n",
                        "              N  L  R  j  e  V  E  A  S  a  J  F  f  /  Q\n",
                        "test.beat  2062  0  0  0  0  0  0  2  0  0  0  0  0  0  0\n",
                        "\n"
                    ]
                }
            ],
            "source": [
                "# Load processed datasets\n",
                "train_ds = beatdata.load_data(file_name=\"train.beat\")\n",
                "val_ds = beatdata.load_data(file_name=\"val.beat\")\n",
                "test_ds = beatdata.load_data(file_name=\"test.beat\")"
            ]
        },
        {
            "cell_type": "code",
            "execution_count": 5,
            "metadata": {},
            "outputs": [
                {
                    "name": "stdout",
                    "output_type": "stream",
                    "text": [
                        "          N  L  R  j  e    V  E    A  S  a  J  F  f  /  Q\n",
                        "Train  2601  0  0  0  0    1  0  383  0  0  0  0  0  0  0\n",
                        "Val    5109  0  0  0  0  164  0   97  0  0  0  1  0  0  0\n",
                        "Test   2062  0  0  0  0    0  0    2  0  0  0  0  0  0  0\n"
                    ]
                }
            ],
            "source": [
                "# Number of samples per class\n",
                "stat_report = beatdata.report_stats_table(\n",
                "    [train_ds[\"labels\"], val_ds[\"labels\"], test_ds[\"labels\"]], [\"Train\", \"Val\", \"Test\"]\n",
                ")\n",
                "print(stat_report)"
            ]
        },
        {
            "cell_type": "code",
            "execution_count": 6,
            "metadata": {},
            "outputs": [
                {
                    "name": "stdout",
                    "output_type": "stream",
                    "text": [
                        "      F_beat_max  F_beat_skewness  F_new_feature1        Post         Pre\n",
                        "2982       1.250         2.189705            1.09  641.666667  663.888889\n",
                        "2983       1.355         1.755593            1.09  494.444444  641.666667\n",
                        "2984       1.420         2.580627            1.09  761.111111  494.444444\n"
                    ]
                }
            ],
            "source": [
                "print(train_ds[\"beat_feats\"].tail(3))"
            ]
        }
    ],
    "metadata": {
        "kernelspec": {
            "display_name": ".venv",
            "language": "python",
            "name": "python3"
        },
        "language_info": {
            "codemirror_mode": {
                "name": "ipython",
                "version": 3
            },
            "file_extension": ".py",
            "mimetype": "text/x-python",
            "name": "python",
            "nbconvert_exporter": "python",
            "pygments_lexer": "ipython3",
            "version": "3.10.0"
        },
        "vscode": {
            "interpreter": {
                "hash": "2b3da7df89b26757d5cc0b3b4f4abb3b520ebd829fe30c0197712adb7acae5b8"
            }
        }
    },
    "nbformat": 4,
    "nbformat_minor": 4
}
