{
  "cells": [
    {
      "attachments": {},
      "cell_type": "markdown",
      "metadata": {
        "id": "zMPj1qlsDsIk"
      },
      "source": [
        "# Heartbeat"
      ]
    },
    {
      "attachments": {},
      "cell_type": "markdown",
      "metadata": {
        "id": "HSOB_GYcDsIo"
      },
      "source": [
        "This example shows how to use the `BeatData` class to make a dataset for analyzing heartbeats. This class processes the provided ECG records and generates a dataset comprising the extracted heartbeat waveforms, computed features, and their corresponding labels. This type of dataset can be utilized for the heartbeat classification task. For this purpose, any type of machine learning algorithm can be used. The example shows how to include predefined or custom features to the dataset. This requires that an instance of the class `BeatInfo` be passed as an argument.\n",
        "\n",
        "\n",
        "This example is available on [GitHub](https://github.com/devnums/pyheartlib/blob/main/examples/).\n",
        "\n",
        "<a target=\"_blank\" href=\"https://colab.research.google.com/github/devnums/pyheartlib/blob/main/examples/dataset/heartbeat.ipynb\"><img src=\"https://colab.research.google.com/assets/colab-badge.svg\" alt=\"Open In Colab\"/></a>"
      ]
    },
    {
      "attachments": {},
      "cell_type": "markdown",
      "metadata": {
        "id": "wGZ7fLWZDxY3"
      },
      "source": [
        "## Install pyheartlib"
      ]
    },
    {
      "attachments": {},
      "cell_type": "markdown",
      "metadata": {},
      "source": [
        "First, `pyheartlib` needs to be installed."
      ]
    },
    {
      "cell_type": "code",
      "execution_count": 1,
      "metadata": {
        "colab": {
          "base_uri": "https://localhost:8080/"
        },
        "id": "ROBzHcHODx8-",
        "outputId": "8efddf2c-b8dd-4211-b090-5097fb9c89ad"
      },
      "outputs": [
        {
          "name": "stdout",
          "output_type": "stream",
          "text": [
            "pyheartlib is already installed\n"
          ]
        }
      ],
      "source": [
        "try:\n",
        "    import pyheartlib\n",
        "    print('pyheartlib is already installed')\n",
        "except ModuleNotFoundError:\n",
        "    print('Installing pyheartlib...')\n",
        "    %pip install pyheartlib"
      ]
    },
    {
      "attachments": {},
      "cell_type": "markdown",
      "metadata": {
        "id": "jYalnYA_DyjS"
      },
      "source": [
        "## Download raw data"
      ]
    },
    {
      "attachments": {},
      "cell_type": "markdown",
      "metadata": {},
      "source": [
        "`Pyheartlib` supports the WFDB format. A popular dataset that uses this format is the \"MIT-BIH Arrhythmia Database\". The code below downloads this dataset and stores it in the data directory."
      ]
    },
    {
      "cell_type": "code",
      "execution_count": 2,
      "metadata": {
        "id": "XgwQqZb5Dzmz",
        "tags": [
          "hide-cell"
        ]
      },
      "outputs": [],
      "source": [
        "# Download the raw data and store them in the base data directory\n",
        "from pathlib import Path\n",
        "if not Path('data').is_dir():\n",
        "  print('downloading raw data...')\n",
        "  import io, zipfile\n",
        "  from urllib.request import urlopen\n",
        "  url='https://www.physionet.org/static/published-projects/mitdb/mit-bih-arrhythmia-database-1.0.0.zip'\n",
        "  with urlopen(url) as rs:\n",
        "      zipf = zipfile.ZipFile(io.BytesIO(rs.read()))\n",
        "      zipf.extractall('data/')\n",
        "\n",
        "  # Create the config file. For this example, it will be download from the original repository\n",
        "  with urlopen(\"https://raw.githubusercontent.com/devnums/pyheartlib/main/src/pyheartlib/config.yaml\") as file:\n",
        "      content = file.read().decode()\n",
        "  with open(\"data/config.yaml\", 'w') as file:\n",
        "      file.write(content)"
      ]
    },
    {
      "attachments": {},
      "cell_type": "markdown",
      "metadata": {
        "id": "wtG5qZqjD0HF"
      },
      "source": [
        "## Define objects and features"
      ]
    },
    {
      "attachments": {},
      "cell_type": "markdown",
      "metadata": {},
      "source": [
        "To create a dataset using the `BeatData`, first it needs to be imported.\n",
        "\n",
        "```python\n",
        "from pyheartlib.data_beat import BeatData\n",
        "```\n",
        "\n",
        "The next step is to create an object of the `pyheartlib.data_beat.BeatData`. \n",
        "\n",
        "```python\n",
        "beatdata = BeatData(\n",
        "    base_path=\"data\",\n",
        "    win=[200, 200],\n",
        "    remove_bl=False,\n",
        "    lowpass=False,\n",
        "    progress_bar=False,\n",
        ")\n",
        "```\n",
        "Descriptions of all the parameters of `BeatData` can be found [here](../../introduction.html#directive-bdt).\n",
        "\n",
        "For feature computation, an instance of the `pyheartlib.beat_info.BeatInfo` has to be created.\n",
        "\n",
        "```python\n",
        "from pyheartlib.beat_info import BeatInfo\n",
        "beatinfo = BeatInfo()\n",
        "```\n",
        "\n",
        "`BeatInfo` includes some predefined features, however custom features can also be defined. Each custom feature definition must adhere to this syntax:\n",
        "\n",
        "```python\n",
        "def F_new_feature1(self):\n",
        "    return return_result\n",
        "```\n",
        "The `return_result` can be a single number or a dictionary such as {\"Feature_1\": value_1, \"Feature_2\": value_2}.\n",
        "\n",
        "The custom features can be added to the beatinfo object by using the `add_features()` method, the list of all available features can be obtained using the `available_features()` method, and to select desired features for computation the `select_features()` method can be used.\n",
        "\n",
        "Descriptions of all the parameters of `BeatInfo` can be found [here](../../introduction.html#directive-bif).\n"
      ]
    },
    {
      "cell_type": "code",
      "execution_count": 3,
      "metadata": {
        "colab": {
          "base_uri": "https://localhost:8080/"
        },
        "id": "0VqP7NTsDsIp",
        "outputId": "f41ef7c3-9f7e-49e9-eb1b-ad8fafd435b6"
      },
      "outputs": [
        {
          "name": "stdout",
          "output_type": "stream",
          "text": [
            "['F_absmean_sdrri', 'F_beat_kurtosis', 'F_beat_max', 'F_beat_mean', 'F_beat_min', 'F_beat_rms', 'F_beat_skewness', 'F_beat_std', 'F_compensate_diff_nr', 'F_compensate_ratio', 'F_diff_post_avg_nr', 'F_diff_post_pre', 'F_diff_post_pre_nr', 'F_diff_pre_avg_nr', 'F_fft_features', 'F_heart_rate', 'F_maxmin_diff', 'F_maxmin_diff_norm', 'F_mean_pre_rri', 'F_mean_pre_sdrri', 'F_mean_sdrri', 'F_median_rri', 'F_new_feature1', 'F_new_feature2', 'F_nsampels', 'F_post_rri', 'F_pre_rri', 'F_ratio_post_pre', 'F_ratio_post_rms', 'F_ratio_pre_rms', 'F_rms_rri', 'F_rms_sdrri', 'F_segmented_waveform', 'F_std_rri', 'F_std_sdrri', 'F_subsegs']\n"
          ]
        }
      ],
      "source": [
        "from pyheartlib.data_beat import BeatData\n",
        "\n",
        "# Make an instance of the BeatData\n",
        "beatdata = BeatData(\n",
        "    base_path=\"data\",\n",
        "    win=[200, 200],\n",
        "    remove_bl=False,\n",
        "    lowpass=False,\n",
        "    progress_bar=False,\n",
        ")\n",
        "\n",
        "# Make an instance of the BeatInfo\n",
        "from pyheartlib.beat_info import BeatInfo\n",
        "beatinfo = BeatInfo()\n",
        "\n",
        "# Define a custom features. This only returns a single value for demonstration.\n",
        "# Feature function names has to start with F_\n",
        "def F_new_feature1(self):\n",
        "    return 1.09\n",
        "\n",
        "# Define new features. This function returns two features.\n",
        "# The feature are returned as dictionary in this case\n",
        "def F_new_feature2(self):\n",
        "    post = beatinfo.F_post_rri()\n",
        "    pre = beatinfo.F_pre_rri()\n",
        "    ret = {\"Post\": post, \"Pre\": pre}\n",
        "    return ret\n",
        "\n",
        "# This feature returns the segmented heartbeat waveform.\n",
        "# bwaveform is computed according to the pre and post RR intervals \n",
        "def F_segmented_waveform(self):\n",
        "    return beatinfo.bwaveform\n",
        "\n",
        "# Add custom features to the beatinfo object\n",
        "new_features = [F_new_feature1, F_new_feature2, F_segmented_waveform]\n",
        "beatinfo.add_features(new_features)\n",
        "\n",
        "# Get a list of available feature functions which include predefined and custom features\n",
        "print(beatinfo.available_features())"
      ]
    },
    {
      "cell_type": "code",
      "execution_count": 4,
      "metadata": {},
      "outputs": [],
      "source": [
        "# Select the desired features\n",
        "beatinfo.select_features(\n",
        "    [\"F_segmented_waveform\", \"F_beat_max\", \"F_beat_skewness\", \"F_new_feature1\", \"F_new_feature2\"]\n",
        ")"
      ]
    },
    {
      "attachments": {},
      "cell_type": "markdown",
      "metadata": {},
      "source": [
        "### Create inter-patient dataset"
      ]
    },
    {
      "attachments": {},
      "cell_type": "markdown",
      "metadata": {},
      "source": [
        "Finally, using the `save_dataset_inter()` method of `BeatData`, an inter-patient dataset can be created."
      ]
    },
    {
      "cell_type": "code",
      "execution_count": 5,
      "metadata": {
        "colab": {
          "base_uri": "https://localhost:8080/"
        },
        "id": "ILBW3vT-DsIu",
        "outputId": "7c32ca71-6382-4f29-efb7-47c9e4e75eb9"
      },
      "outputs": [
        {
          "name": "stdout",
          "output_type": "stream",
          "text": [
            "File saved at: data/train.beat\n",
            "File saved at: data/val.beat\n",
            "File saved at: data/test.beat\n"
          ]
        }
      ],
      "source": [
        "# Use the save_dataset_inter method to create an inter-patient dataset.\n",
        "# The file will be saved in the base data directory.\n",
        "beatdata.save_dataset_inter([\"209\"], beatinfo, file=\"train.beat\")\n",
        "\n",
        "# In a similar way for validation and test datasets\n",
        "beatdata.save_dataset_inter([\"215\", \"220\"], beatinfo, file=\"val.beat\")\n",
        "beatdata.save_dataset_inter([\"103\"], beatinfo, file=\"test.beat\")"
      ]
    },
    {
      "cell_type": "code",
      "execution_count": 6,
      "metadata": {
        "colab": {
          "base_uri": "https://localhost:8080/"
        },
        "id": "WxO7VNadDsIw",
        "outputId": "572c9d30-db73-4094-a0e9-a834c6e0c60c"
      },
      "outputs": [
        {
          "name": "stdout",
          "output_type": "stream",
          "text": [
            "File loaded from: data/train.beat\n",
            "-Shape of \"waveforms\" is (2985, 400). Number of samples is 2985.\n",
            "-Shape of \"beat_feats\" is (2985, 6). Number of samples is 2985.\n",
            "-Shape of \"labels\" is (2985,). Number of samples is 2985.\n",
            "               N  L  R  j  e  V  E    A  S  a  J  F  f  /  Q\n",
            "train.beat  2601  0  0  0  0  1  0  383  0  0  0  0  0  0  0\n",
            "\n",
            "File loaded from: data/val.beat\n",
            "-Shape of \"waveforms\" is (5371, 400). Number of samples is 5371.\n",
            "-Shape of \"beat_feats\" is (5371, 6). Number of samples is 5371.\n",
            "-Shape of \"labels\" is (5371,). Number of samples is 5371.\n",
            "             N  L  R  j  e    V  E   A  S  a  J  F  f  /  Q\n",
            "val.beat  5109  0  0  0  0  164  0  97  0  0  0  1  0  0  0\n",
            "\n",
            "File loaded from: data/test.beat\n",
            "-Shape of \"waveforms\" is (2064, 400). Number of samples is 2064.\n",
            "-Shape of \"beat_feats\" is (2064, 6). Number of samples is 2064.\n",
            "-Shape of \"labels\" is (2064,). Number of samples is 2064.\n",
            "              N  L  R  j  e  V  E  A  S  a  J  F  f  /  Q\n",
            "test.beat  2062  0  0  0  0  0  0  2  0  0  0  0  0  0  0\n",
            "\n"
          ]
        }
      ],
      "source": [
        "# Load the datasets\n",
        "train_ds = beatdata.load_data(file_name=\"train.beat\")\n",
        "val_ds = beatdata.load_data(file_name=\"val.beat\")\n",
        "test_ds = beatdata.load_data(file_name=\"test.beat\")"
      ]
    },
    {
      "cell_type": "code",
      "execution_count": 7,
      "metadata": {},
      "outputs": [
        {
          "name": "stdout",
          "output_type": "stream",
          "text": [
            "229\n"
          ]
        },
        {
          "data": {
            "image/png": "[encoded data removed]",
            "text/plain": [
              "<Figure size 600x300 with 1 Axes>"
            ]
          },
          "metadata": {},
          "output_type": "display_data"
        }
      ],
      "source": [
        "# Plot a hearbeat waveform\n",
        "wf = train_ds[\"beat_feats\"][\"F_segmented_waveform\"].iloc[34]\n",
        "print(len(wf))\n",
        "import matplotlib.pyplot as plt\n",
        "plt.figure(figsize=(6, 3))\n",
        "plt.plot(wf);"
      ]
    },
    {
      "cell_type": "code",
      "execution_count": 8,
      "metadata": {
        "colab": {
          "base_uri": "https://localhost:8080/"
        },
        "id": "5r3NVPTADsIw",
        "outputId": "89d9f031-542c-4a32-e0da-9a9809414a3b"
      },
      "outputs": [
        {
          "name": "stdout",
          "output_type": "stream",
          "text": [
            "          N  L  R  j  e    V  E    A  S  a  J  F  f  /  Q\n",
            "Train  2601  0  0  0  0    1  0  383  0  0  0  0  0  0  0\n",
            "Val    5109  0  0  0  0  164  0   97  0  0  0  1  0  0  0\n",
            "Test   2062  0  0  0  0    0  0    2  0  0  0  0  0  0  0\n"
          ]
        }
      ],
      "source": [
        "# Number of samples per class\n",
        "stat_report = beatdata.report_stats_table(\n",
        "    [train_ds[\"labels\"], val_ds[\"labels\"], test_ds[\"labels\"]], [\"Train\", \"Val\", \"Test\"]\n",
        ")\n",
        "print(stat_report)"
      ]
    },
    {
      "cell_type": "code",
      "execution_count": 9,
      "metadata": {
        "colab": {
          "base_uri": "https://localhost:8080/"
        },
        "id": "Uk95sOxRDsIy",
        "outputId": "9b4b979a-208f-4f07-982e-78acc03a9771"
      },
      "outputs": [
        {
          "name": "stdout",
          "output_type": "stream",
          "text": [
            "                                   F_segmented_waveform  F_beat_max  \\\n",
            "2982  [-0.19, -0.2, -0.2, -0.19, -0.17, -0.17, -0.17...       1.250   \n",
            "2983  [-0.015, -0.025, -0.04, -0.03, -0.025, -0.015,...       1.355   \n",
            "2984  [0.135, 0.15, 0.135, 0.125, 0.1, 0.115, 0.135,...       1.420   \n",
            "\n",
            "      F_beat_skewness  F_new_feature1        Post         Pre  \n",
            "2982         2.189705            1.09  641.666667  663.888889  \n",
            "2983         1.755593            1.09  494.444444  641.666667  \n",
            "2984         2.580627            1.09  761.111111  494.444444  \n"
          ]
        }
      ],
      "source": [
        "print(train_ds[\"beat_feats\"].tail(3))\n",
        "# The Post and Pre columns are the results of F_new_feature2"
      ]
    },
    {
      "attachments": {},
      "cell_type": "markdown",
      "metadata": {},
      "source": [
        "### Create intra-patient dataset"
      ]
    },
    {
      "attachments": {},
      "cell_type": "markdown",
      "metadata": {},
      "source": [
        "To create an intra-patient dataset, the `save_dataset_intra` method can be used."
      ]
    },
    {
      "cell_type": "code",
      "execution_count": 10,
      "metadata": {},
      "outputs": [
        {
          "name": "stdout",
          "output_type": "stream",
          "text": [
            "File saved at: data/intra_train.beat\n",
            "File saved at: data/intra_test.beat\n",
            "File loaded from: data/intra_train.beat\n",
            "-Shape of \"waveforms\" is (1897, 400). Number of samples is 1897.\n",
            "-Shape of \"beat_feats\" is (1897, 6). Number of samples is 1897.\n",
            "-Shape of \"labels\" is (1897,). Number of samples is 1897.\n",
            "                     N  L  R  j  e   V  E   A  S  a  J  F  f  /  Q\n",
            "intra_train.beat  1781  0  0  0  0  57  0  59  0  0  0  0  0  0  0\n",
            "\n",
            "File loaded from: data/intra_test.beat\n",
            "-Shape of \"waveforms\" is (4431, 400). Number of samples is 4431.\n",
            "-Shape of \"beat_feats\" is (4431, 6). Number of samples is 4431.\n",
            "-Shape of \"labels\" is (4431,). Number of samples is 4431.\n",
            "                    N  L  R  j  e    V  E    A  S  a  J  F  f  /  Q\n",
            "intra_test.beat  3995  0  0  0  0  108  0  327  0  0  0  1  0  0  0\n",
            "\n"
          ]
        }
      ],
      "source": [
        "# Use the save_dataset_intra method to create an intra-patient dataset.\n",
        "# The file will be saved in the base data directory.\n",
        "beatdata.save_dataset_intra([209, 215], beatinfo)\n",
        "\n",
        "# Load datasets\n",
        "train_ds = beatdata.load_data(file_name=\"intra_train.beat\")\n",
        "test_ds = beatdata.load_data(file_name=\"intra_test.beat\")"
      ]
    },
    {
      "cell_type": "code",
      "execution_count": 11,
      "metadata": {},
      "outputs": [
        {
          "name": "stdout",
          "output_type": "stream",
          "text": [
            "          N  L  R  j  e    V  E    A  S  a  J  F  f  /  Q\n",
            "Train  1781  0  0  0  0   57  0   59  0  0  0  0  0  0  0\n",
            "Test   3995  0  0  0  0  108  0  327  0  0  0  1  0  0  0\n"
          ]
        }
      ],
      "source": [
        "# Number of samples per class\n",
        "stat_report = beatdata.report_stats_table(\n",
        "    [train_ds[\"labels\"], test_ds[\"labels\"]], [\"Train\", \"Test\"]\n",
        ")\n",
        "print(stat_report)"
      ]
    },
    {
      "cell_type": "code",
      "execution_count": 12,
      "metadata": {},
      "outputs": [
        {
          "name": "stdout",
          "output_type": "stream",
          "text": [
            "                                   F_segmented_waveform  F_beat_max  \\\n",
            "999   [-0.125, -0.11, -0.085, -0.09, -0.12, -0.14, -...       0.885   \n",
            "1000  [-0.12, -0.135, -0.135, -0.135, -0.13, -0.125,...       0.710   \n",
            "1001  [-0.135, -0.125, -0.11, -0.13, -0.135, -0.165,...       0.650   \n",
            "\n",
            "      F_beat_skewness  F_new_feature1        Post         Pre  \n",
            "999          1.090895            1.09  583.333333  555.555556  \n",
            "1000         0.565561            1.09  550.000000  583.333333  \n",
            "1001         0.376462            1.09  566.666667  550.000000  \n"
          ]
        }
      ],
      "source": [
        "print(train_ds['beat_feats'].tail(3))\n",
        "# The Post and Pre columns are the results of F_new_feature2"
      ]
    }
  ],
  "metadata": {
    "colab": {
      "provenance": []
    },
    "kernelspec": {
      "display_name": ".venv",
      "language": "python",
      "name": "python3"
    },
    "language_info": {
      "codemirror_mode": {
        "name": "ipython",
        "version": 3
      },
      "file_extension": ".py",
      "mimetype": "text/x-python",
      "name": "python",
      "nbconvert_exporter": "python",
      "pygments_lexer": "ipython3",
      "version": "3.10.0"
    },
    "vscode": {
      "interpreter": {
        "hash": "2b3da7df89b26757d5cc0b3b4f4abb3b520ebd829fe30c0197712adb7acae5b8"
      }
    }
  },
  "nbformat": 4,
  "nbformat_minor": 0
}
