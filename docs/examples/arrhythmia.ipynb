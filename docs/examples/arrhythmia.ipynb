{
    "cells": [
        {
            "attachments": {},
            "cell_type": "markdown",
            "metadata": {},
            "source": [
                "# Arrhythmia"
            ]
        },
        {
            "attachments": {},
            "cell_type": "markdown",
            "metadata": {},
            "source": [
                "This example demostrates how to create an arrhythmia dataset. "
            ]
        },
        {
            "cell_type": "code",
            "execution_count": 4,
            "metadata": {},
            "outputs": [
                {
                    "name": "stderr",
                    "output_type": "stream",
                    "text": [
                        "100%|██████████| 2/2 [00:07<00:00,  3.87s/it]\n"
                    ]
                },
                {
                    "name": "stdout",
                    "output_type": "stream",
                    "text": [
                        "File saved at: ../../data/train.arr\n",
                        "File loaded from: ../../data/train.arr\n",
                        "           0     1     2     3\n",
                        "Label  (AFIB  (AFL    (N    (T\n",
                        "Count  10330  1656  3594  1584\n"
                    ]
                }
            ],
            "source": [
                "import numpy as np\n",
                "import pandas as pd\n",
                "from pyecg.io import load_data\n",
                "from pyecg.data_arrhythmia import ArrhythmiaData, ECGSequence\n",
                "\n",
                "\n",
                "train_set = [201, 203]\n",
                "\n",
                "arrhythmia_data = ArrhythmiaData(base_path=\"../../data\", remove_bl=False, lowpass=False)\n",
                "annotated_records, samples_info = arrhythmia_data.save_samples(\n",
                "    rec_list=train_set, file_name=\"train.arr\", win_size=3600, stride=64\n",
                ")\n",
                "annotated_records, samples_info = load_data(\"../../data/train.arr\")\n",
                "\n",
                "labels = []\n",
                "for sample in samples_info:\n",
                "    labels.append(sample[3])\n",
                "df = pd.DataFrame(np.unique(labels, return_counts=True), index=[\"Label\", \"Count\"])\n",
                "print(df)\n",
                "class_labels = list(np.unique(labels))"
            ]
        },
        {
            "cell_type": "code",
            "execution_count": 5,
            "metadata": {},
            "outputs": [
                {
                    "name": "stdout",
                    "output_type": "stream",
                    "text": [
                        "batch_label shape: (3,)\n",
                        "batch_seq shape: (3, 3600)  , batch_rri shape: (3, 150)  , batch_rri_feat shape: (3, 9)\n"
                    ]
                }
            ],
            "source": [
                "# if raw=True\n",
                "training_generator = ECGSequence(\n",
                "    annotated_records, samples_info, class_labels=None, batch_size=3, raw=True\n",
                ")\n",
                "bt = 0\n",
                "batch_label = training_generator.__getitem__(bt)[1]  # excerpt label\n",
                "batch_seq = training_generator.__getitem__(bt)[0][0]  # excerpt values\n",
                "batch_rri = training_generator.__getitem__(bt)[0][1]  # rr intervals\n",
                "batch_rri_feat = training_generator.__getitem__(bt)[0][2]  # calculated rri features\n",
                "print(\"batch_label shape:\", batch_label.shape)\n",
                "print(\n",
                "    \"batch_seq shape:\",\n",
                "    batch_seq.shape,\n",
                "    \" , batch_rri shape:\",\n",
                "    batch_rri.shape,\n",
                "    \" , batch_rri_feat shape:\",\n",
                "    batch_rri_feat.shape,\n",
                ")"
            ]
        },
        {
            "cell_type": "code",
            "execution_count": 6,
            "metadata": {},
            "outputs": [
                {
                    "name": "stdout",
                    "output_type": "stream",
                    "text": [
                        "batch_label shape: (3,)\n",
                        "batch_seq shape: (3, 100, 14)  , batch_rri shape: (3, 150)  , batch_rri_feat shape: (3, 9)\n"
                    ]
                }
            ],
            "source": [
                "# if raw=False\n",
                "training_generator = ECGSequence(\n",
                "    annotated_records, samples_info, class_labels=None, batch_size=3, raw=False\n",
                ")\n",
                "i = 0\n",
                "batch_label = training_generator.__getitem__(bt)[1]  # excerpt label\n",
                "batch_seq = training_generator.__getitem__(bt)[0][0]  # excerpt values\n",
                "batch_rri = training_generator.__getitem__(bt)[0][1]  # rr intervals\n",
                "batch_rri_feat = training_generator.__getitem__(bt)[0][2]  # calculated rri features\n",
                "print(\"batch_label shape:\", batch_label.shape)\n",
                "print(\n",
                "    \"batch_seq shape:\",\n",
                "    batch_seq.shape,\n",
                "    \" , batch_rri shape:\",\n",
                "    batch_rri.shape,\n",
                "    \" , batch_rri_feat shape:\",\n",
                "    batch_rri_feat.shape,\n",
                ")"
            ]
        }
    ],
    "metadata": {
        "kernelspec": {
            "display_name": ".venv",
            "language": "python",
            "name": "python3"
        },
        "language_info": {
            "codemirror_mode": {
                "name": "ipython",
                "version": 3
            },
            "file_extension": ".py",
            "mimetype": "text/x-python",
            "name": "python",
            "nbconvert_exporter": "python",
            "pygments_lexer": "ipython3",
            "version": "3.10.6"
        },
        "vscode": {
            "interpreter": {
                "hash": "9fd6400921a74d4977f085f54e09dfc34df36c76946b15109ee197d34742e689"
            }
        }
    },
    "nbformat": 4,
    "nbformat_minor": 4
}
