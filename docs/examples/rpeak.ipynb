{
  "cells": [
    {
      "cell_type": "markdown",
      "metadata": {
        "id": "SEtrl8gTC5Ew"
      },
      "source": [
        "# Rpeak"
      ]
    },
    {
      "attachments": {},
      "cell_type": "markdown",
      "metadata": {
        "id": "8HA9NsZP8X1M"
      },
      "source": [
        "This example shows how to use the ‍‍‍`RpeakData‍‍‍` class to make a dataset. This class is similar to the `RhythmData` class. However, unlike the `RhythmData` class, it does not provide only one label for each excerpt. Instead, it provides a list of labels for each excerpt. Each element in this annotation list corresponds to a subsegment of the excerpt. The `ECGSequence` class uses the created dataset to generate batches of sample data.\n",
        "\n",
        "This example is availble on [GitHub](https://github.com/devnums/pyheartlib/blob/main/examples/).\n",
        "\n",
        "<a target=\"_blank\" href=\"https://colab.research.google.com/github/devnums/pyheartlib/blob/main/examples/dataset/rpeak.ipynb\"><img src=\"https://colab.research.google.com/assets/colab-badge.svg\" alt=\"Open In Colab\"/></a>"
      ]
    },
    {
      "attachments": {},
      "cell_type": "markdown",
      "metadata": {
        "id": "UPeScsiF8X1G"
      },
      "source": [
        "## Install pyheartlib"
      ]
    },
    {
      "attachments": {},
      "cell_type": "markdown",
      "metadata": {},
      "source": [
        "First, `pyheartlib` needs to be installed."
      ]
    },
    {
      "cell_type": "code",
      "execution_count": 1,
      "metadata": {
        "colab": {
          "base_uri": "https://localhost:8080/"
        },
        "id": "obxZZdj6_6pz",
        "outputId": "c31da37d-3dc0-4c28-ede5-0e92aab9e7bb"
      },
      "outputs": [
        {
          "name": "stdout",
          "output_type": "stream",
          "text": [
            "Pyheartlib version 1.21.0 is already installed!\n"
          ]
        }
      ],
      "source": [
        "try:\n",
        "    import pyheartlib\n",
        "    print(f'Pyheartlib version {pyheartlib.__version__} is already installed!')\n",
        "except ModuleNotFoundError:\n",
        "    print('Installing pyheartlib...')\n",
        "    %pip install pyheartlib\n",
        "    import pyheartlib\n",
        "    print(f'Pyheartlib version {pyheartlib.__version__} is installed!')"
      ]
    },
    {
      "attachments": {},
      "cell_type": "markdown",
      "metadata": {
        "id": "LxoyIvD086sE"
      },
      "source": [
        "## Download raw data"
      ]
    },
    {
      "attachments": {},
      "cell_type": "markdown",
      "metadata": {},
      "source": [
        "`Pyheartlib` supports the WFDB format. A popular dataset that uses this format is the \"MIT-BIH Arrhythmia Database\". The code below downloads this dataset and stores it in the data directory."
      ]
    },
    {
      "cell_type": "code",
      "execution_count": 29,
      "metadata": {
        "id": "TDZUFoWV8844",
        "tags": [
          "hide-cell"
        ]
      },
      "outputs": [],
      "source": [
        "# Download the raw data and store them in the base data directory\n",
        "from pathlib import Path\n",
        "if not Path('data').is_dir():\n",
        "  print('downloading raw data...')\n",
        "  import io, zipfile\n",
        "  from urllib.request import urlopen\n",
        "  url='https://www.physionet.org/static/published-projects/mitdb/mit-bih-arrhythmia-database-1.0.0.zip'\n",
        "  with urlopen(url) as rs:\n",
        "      zipf = zipfile.ZipFile(io.BytesIO(rs.read()))\n",
        "      zipf.extractall('data/')\n",
        "\n",
        "  # Create the config file. For this example, it will be download from the original repository\n",
        "  with urlopen(\"https://raw.githubusercontent.com/devnums/pyheartlib/main/src/pyheartlib/config.yaml\") as file:\n",
        "      content = file.read().decode()\n",
        "  with open(\"data/config.yaml\", 'w') as file:\n",
        "      file.write(content)"
      ]
    },
    {
      "attachments": {},
      "cell_type": "markdown",
      "metadata": {
        "id": "HjiXH9_V9GLT"
      },
      "source": [
        "## Create dataset"
      ]
    },
    {
      "attachments": {},
      "cell_type": "markdown",
      "metadata": {},
      "source": [
        "To create a dataset using the `RpeakData`, first it needs to be imported.\n",
        "```python\n",
        "from pyheartlib.data_rpeak import RpeakData\n",
        "```\n",
        "\n",
        "The next step is to create an object of the `pyheartlib.data_rpeak.RpeakData`. \n",
        "\n",
        "```python\n",
        "rpeak_data = RpeakData(\n",
        "    base_path=\"data\", remove_bl=False, lowpass=False, progress_bar=False\n",
        ")\n",
        "```\n",
        "Descriptions of all the parameters can be found [here](../introduction.html#directive-rpd).\n",
        "\n",
        "Using the `save_dataset()` method, the dataset will be created.\n",
        "\n",
        "```python\n",
        "rpeak_data.save_dataset(\n",
        "    rec_list=train_set,\n",
        "    file_name=\"train.rpeak\",\n",
        "    win_size=5 * 360,\n",
        "    stride=360,\n",
        "    interval=72,\n",
        ")\n",
        "```\n",
        "\n",
        "Let's create the dataset by running the next code block."
      ]
    },
    {
      "cell_type": "code",
      "execution_count": 30,
      "metadata": {
        "colab": {
          "base_uri": "https://localhost:8080/"
        },
        "id": "1Ne94OPk8X1N",
        "outputId": "4a3446ad-9d81-49f5-a1a4-1b881d9428ab"
      },
      "outputs": [
        {
          "name": "stdout",
          "output_type": "stream",
          "text": [
            "File saved at: data/train.rpeak\n"
          ]
        }
      ],
      "source": [
        "import numpy as np\n",
        "import pandas as pd\n",
        "from pyheartlib.data_rpeak import RpeakData\n",
        "\n",
        "# Make an instance of the RpeakData\n",
        "rpeak_data = RpeakData(\n",
        "    base_path=\"data\", remove_bl=False, lowpass=False, progress_bar=False\n",
        ")\n",
        "\n",
        "# Define records\n",
        "train_set = [201, 203]\n",
        "\n",
        "# Create the dataset\n",
        "# The win_size specifies the length of the excerpts\n",
        "rpeak_data.save_dataset(\n",
        "    rec_list=train_set,\n",
        "    file_name=\"train.rpeak\",\n",
        "    win_size=5 * 360,\n",
        "    stride=360,\n",
        "    interval=72,\n",
        ")\n"
      ]
    },
    {
      "attachments": {},
      "cell_type": "markdown",
      "metadata": {},
      "source": [
        "Now that the dataset is ready, it can be loaded using the `load_dataset()` function.\n",
        "```python\n",
        "from pyheartlib.data_rpeak import load_dataset\n",
        "annotated_records, samples_info = load_dataset(\"data/train.rpeak\")\n",
        "```\n",
        "\n",
        "Let's load the data and count the number of samples for each class."
      ]
    },
    {
      "cell_type": "code",
      "execution_count": 31,
      "metadata": {},
      "outputs": [
        {
          "name": "stdout",
          "output_type": "stream",
          "text": [
            "File loaded from: data/train.rpeak\n",
            "           0    1   2  3      4   5     6    7   8\n",
            "Label      0    A   F  J      N   Q     V    a   j\n",
            "Count  65388  150  15  5  20718  20  3210  494  50\n"
          ]
        }
      ],
      "source": [
        "# Load the dataset\n",
        "from pyheartlib.data_rpeak import load_dataset\n",
        "annotated_records, samples_info = load_dataset(\"data/train.rpeak\")\n",
        "\n",
        "labels = []\n",
        "for sample in samples_info:\n",
        "    labels.append(sample[3])\n",
        "df = pd.DataFrame(np.unique(labels, return_counts=True), index=[\"Label\", \"Count\"])\n",
        "print(df)"
      ]
    },
    {
      "attachments": {},
      "cell_type": "markdown",
      "metadata": {},
      "source": [
        "The metadata of a sample is a list: [record ID, onset, offset, annotation]"
      ]
    },
    {
      "cell_type": "code",
      "execution_count": 32,
      "metadata": {},
      "outputs": [
        {
          "name": "stdout",
          "output_type": "stream",
          "text": [
            "[0, 36720, 38520, [0, 0, 0, 0, 'N', 0, 'N', 0, 'N', 0, 0, 0, 'N', 0, 0, 'N', 0, 0, 'N', 0, 0, 0, 'N', 0, 0]]\n"
          ]
        }
      ],
      "source": [
        "# Metadata of a sample excerpt\n",
        "# [record ID, onset, offset, annotation]\n",
        "print(samples_info[102])"
      ]
    },
    {
      "attachments": {},
      "cell_type": "markdown",
      "metadata": {},
      "source": [
        "## Generate data samples"
      ]
    },
    {
      "attachments": {},
      "cell_type": "markdown",
      "metadata": {},
      "source": [
        "In this section, the dataset that was created in the previous section will be used to generate batches of sample data. To accomplish this, an instance of `pyheartlib.data_rpeak.ECGSequence` must be created.\n",
        "```python\n",
        "from pyheartlib.data_rpeak import ECGSequence\n",
        "\n",
        "ecgseq = ECGSequence(\n",
        "    annotated_records, samples_info, binary=False, batch_size=2, raw=True, interval=72\n",
        ")\n",
        "```\n",
        "\n",
        "The `ECGSequence` takes the  *annotated_records* (ECG records) and the *samples_info* (metadata) that were loaded previously.\n",
        "\n",
        "Other parameters that `ECGSequence` takes can be found [here](../introduction.html#directive-rps).\n",
        "\n",
        "Let's generate a batch of data and examine the shapes and values of the samples."
      ]
    },
    {
      "cell_type": "code",
      "execution_count": 33,
      "metadata": {
        "colab": {
          "base_uri": "https://localhost:8080/"
        },
        "id": "lBB1wIOP8X1R",
        "outputId": "ea268a79-6c10-4aee-fdbc-a95c7df6eb3a"
      },
      "outputs": [
        {
          "name": "stdout",
          "output_type": "stream",
          "text": [
            "Length of annotation for each sample data: 25\n",
            "Length of each sample excerpt: 1800\n",
            "Batch_wave shape: (3, 2, 1800) , Batch_annotation shape: (3, 25)\n"
          ]
        }
      ],
      "source": [
        "# Generate data in batch using he ECGSequence\n",
        "\n",
        "# Returns a tuple containing two elements when its object is utilized in\n",
        "# this way: ECGSequence_object[BatchNo].\n",
        "\n",
        "# The first element (Batch_x) contains data samples and the\n",
        "# second one (Batch_y) their associated annotation.\n",
        "\n",
        "# Batch_x contains the signal excerpts or their features (Batch_wave).\n",
        "\n",
        "# If `raw` is False, Batch_wave has the shape of\n",
        "# (Batch size, Number of channels, Number of sub-segments, Number of features), \n",
        "# otherwise, it has the shape of (Batch_size, Number of channels, Length of excerpt).\n",
        "\n",
        "# Batch_y has the shape of (Batch size, Length of annotation list).\n",
        "\n",
        "from pyheartlib.data_rpeak import ECGSequence\n",
        "\n",
        "ecgseq = ECGSequence(\n",
        "    annotated_records, samples_info, binary=False, batch_size=3, raw=True, interval=72\n",
        ")\n",
        "bt = 0  # Batch number\n",
        "batch_x, batch_y = ecgseq[bt]\n",
        "batch_annotation = batch_y  # Annotation\n",
        "batch_wave = batch_x  # Excerpt\n",
        "\n",
        "print(\"Length of annotation for each sample data:\", len(batch_annotation[0]))\n",
        "print(\"Length of each sample excerpt:\", batch_wave.shape[2])\n",
        "print(\"Batch_wave shape:\", batch_wave.shape, \", Batch_annotation shape:\", batch_annotation.shape)\n"
      ]
    },
    {
      "cell_type": "code",
      "execution_count": 34,
      "metadata": {},
      "outputs": [
        {
          "name": "stdout",
          "output_type": "stream",
          "text": [
            "[['N' '0' '0' 'N' '0' 'N' '0' '0' 'N' '0' 'N' '0' '0' '0' 'N' '0' '0' 'N'\n",
            "  '0' 'N' '0' '0' 'N' '0' 'N']\n",
            " ['0' 'V' '0' '0' 'N' '0' '0' '0' 'N' '0' '0' 'N' '0' 'N' '0' '0' 'N' '0'\n",
            "  'V' '0' '0' 'N' '0' '0' '0']\n",
            " ['0' '0' 'N' '0' '0' '0' '0' 'N' '0' '0' '0' '0' '0' 'N' '0' '0' '0' '0'\n",
            "  '0' 'N' '0' '0' '0' '0' '0']]\n"
          ]
        }
      ],
      "source": [
        "# Annotations of the samples in the batch\n",
        "print(batch_annotation)"
      ]
    },
    {
      "cell_type": "code",
      "execution_count": 35,
      "metadata": {},
      "outputs": [
        {
          "name": "stdout",
          "output_type": "stream",
          "text": [
            "Length of each excerpt: 1800\n"
          ]
        },
        {
          "data": {
            "image/png": "[encoded data removed]",
            "text/plain": [
              "<Figure size 600x300 with 1 Axes>"
            ]
          },
          "metadata": {},
          "output_type": "display_data"
        }
      ],
      "source": [
        "# Plot an output excerpt of the batch\n",
        "wf = batch_wave[0]\n",
        "wf_ch1 = wf[0]\n",
        "wf_ch2 = wf[1]\n",
        "print(f'Length of each excerpt: {len(wf_ch1)}')\n",
        "\n",
        "import matplotlib.pyplot as plt\n",
        "plt.figure(figsize=(6, 3))\n",
        "plt.plot(wf_ch1);\n",
        "plt.plot(wf_ch2);\n",
        "chs = rpeak_data.config[\"CHANNEL\"]\n",
        "plt.legend([chs[0], chs[1]], loc=\"upper right\");"
      ]
    },
    {
      "cell_type": "markdown",
      "metadata": {},
      "source": [
        "The code below generates a batch with the `raw` parameter set to *False*. In this case, the generated batch contains computed features instead of raw waveform."
      ]
    },
    {
      "cell_type": "code",
      "execution_count": 36,
      "metadata": {
        "colab": {
          "base_uri": "https://localhost:8080/"
        },
        "id": "aP_AVN-p8X1S",
        "outputId": "f92f5ba1-fad8-4b0d-cdd7-a6288695324d"
      },
      "outputs": [
        {
          "name": "stdout",
          "output_type": "stream",
          "text": [
            "Length of annotation for each sample data: 25\n",
            "Batch_wave shape: (3, 2, 25, 14) , Batch_annotation shape: (3, 25)\n"
          ]
        }
      ],
      "source": [
        "# When raw is set to False\n",
        "ecgseq = ECGSequence(\n",
        "    annotated_records, samples_info, binary=False, batch_size=3, raw=False, interval=72\n",
        ")\n",
        "\n",
        "bt = 0  # Batch number\n",
        "batch_x, batch_y = ecgseq[bt]\n",
        "batch_annotation = batch_y  # Annotation\n",
        "batch_wave = batch_x  # Excerpt\n",
        "\n",
        "print(\"Length of annotation for each sample data:\", len(batch_annotation[0]))\n",
        "print(\"Batch_wave shape:\", batch_wave.shape, \", Batch_annotation shape:\", batch_annotation.shape)\n"
      ]
    }
  ],
  "metadata": {
    "colab": {
      "provenance": []
    },
    "kernelspec": {
      "display_name": ".venv",
      "language": "python",
      "name": "python3"
    },
    "language_info": {
      "codemirror_mode": {
        "name": "ipython",
        "version": 3
      },
      "file_extension": ".py",
      "mimetype": "text/x-python",
      "name": "python",
      "nbconvert_exporter": "python",
      "pygments_lexer": "ipython3",
      "version": "3.10.0"
    },
    "vscode": {
      "interpreter": {
        "hash": "2b3da7df89b26757d5cc0b3b4f4abb3b520ebd829fe30c0197712adb7acae5b8"
      }
    }
  },
  "nbformat": 4,
  "nbformat_minor": 0
}
