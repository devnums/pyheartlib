{
    "cells": [
        {
            "attachments": {},
            "cell_type": "markdown",
            "metadata": {},
            "source": [
                "# Rpeak"
            ]
        },
        {
            "attachments": {},
            "cell_type": "markdown",
            "metadata": {},
            "source": [
                "This example demostrates how to create an rpeak dataset. "
            ]
        },
        {
            "cell_type": "code",
            "execution_count": 1,
            "metadata": {},
            "outputs": [
                {
                    "name": "stderr",
                    "output_type": "stream",
                    "text": [
                        "100%|██████████| 2/2 [00:00<00:00,  7.86it/s]\n",
                        "100%|██████████| 2/2 [00:08<00:00,  4.09s/it]\n"
                    ]
                },
                {
                    "name": "stdout",
                    "output_type": "stream",
                    "text": [
                        "File saved at: ../../data/train.rpeak\n",
                        "File loaded from: ../../data/train.rpeak\n"
                    ]
                }
            ],
            "source": [
                "import numpy as np\n",
                "import pandas as pd\n",
                "import matplotlib.pyplot as plt\n",
                "from pyecg.io import load_data\n",
                "from pyecg.data_rpeak import RpeakData, ECGSequence\n",
                "\n",
                "\n",
                "train_set = [201, 203]\n",
                "\n",
                "rpeak_data = RpeakData(base_path=\"../../data\", remove_bl=False, lowpass=False, progress_bar=False)\n",
                "annotated_records, samples_info = rpeak_data.save_samples(\n",
                "    rec_list=train_set, file_name=\"train.rpeak\", win_size=30 * 360, stride=360\n",
                ")\n",
                "annotated_records, samples_info = load_data(\"../../data/train.rpeak\")"
            ]
        },
        {
            "cell_type": "code",
            "execution_count": 2,
            "metadata": {},
            "outputs": [
                {
                    "name": "stdout",
                    "output_type": "stream",
                    "text": [
                        "            0    1   2   3       4    5      6     7    8\n",
                        "Label       0    A   F   J       N    Q      V     a    j\n",
                        "Count  919749  900  90  30  122358  120  19163  2923  267\n"
                    ]
                }
            ],
            "source": [
                "labels = []\n",
                "for sample in samples_info:\n",
                "    labels.append(sample[3])\n",
                "df = pd.DataFrame(np.unique(labels, return_counts=True), index=['Label','Count'])\n",
                "print(df)"
            ]
        },
        {
            "cell_type": "code",
            "execution_count": 3,
            "metadata": {},
            "outputs": [
                {
                    "name": "stdout",
                    "output_type": "stream",
                    "text": [
                        "len of annotation: 150 , len of excerpt: 10800\n"
                    ]
                }
            ],
            "source": [
                "training_generator = ECGSequence(\n",
                "    annotated_records, samples_info, binary=False, batch_size=1, raw=True, interval=72\n",
                ")\n",
                "\n",
                "i = 0\n",
                "label = training_generator.__getitem__(i)[1]  # excerpt label\n",
                "seq = training_generator.__getitem__(i)[0]  # excerpt values\n",
                "print(\"len of annotation:\", len(label[0]), \", len of signal excerpt:\", len(seq[0]))\n"
            ]
        },
        {
            "cell_type": "code",
            "execution_count": null,
            "metadata": {},
            "outputs": [],
            "source": []
        }
    ],
    "metadata": {
        "kernelspec": {
            "display_name": ".venv",
            "language": "python",
            "name": "python3"
        },
        "language_info": {
            "codemirror_mode": {
                "name": "ipython",
                "version": 3
            },
            "file_extension": ".py",
            "mimetype": "text/x-python",
            "name": "python",
            "nbconvert_exporter": "python",
            "pygments_lexer": "ipython3",
            "version": "3.10.6"
        },
        "vscode": {
            "interpreter": {
                "hash": "9fd6400921a74d4977f085f54e09dfc34df36c76946b15109ee197d34742e689"
            }
        }
    },
    "nbformat": 4,
    "nbformat_minor": 4
}
